{
 "cells": [
  {
   "cell_type": "code",
   "execution_count": null,
   "id": "b6aa59fc-6228-4e70-bab7-c0b46080cabf",
   "metadata": {},
   "outputs": [],
   "source": [
    "!pip install kafka-python"
   ]
  },
  {
   "cell_type": "code",
   "execution_count": null,
   "id": "54a7531f-6770-4c5b-9567-d6aded05a72c",
   "metadata": {},
   "outputs": [],
   "source": [
    "# Import KafkaProducer from Kafka library\n",
    "from kafka import KafkaProducer\n",
    "\n",
    "# Define server with port\n",
    "bootstrap_servers = ['kafka:9092']\n",
    "\n",
    "# Define topic name where the message will publish\n",
    "topicName = 'iot_source'\n",
    "\n",
    "# Initialize producer variable\n",
    "producer = KafkaProducer(bootstrap_servers = bootstrap_servers)\n",
    "\n",
    "# Publish text in defined topic\n",
    "producer.send(topicName, b'{\"bme280\": {\"pressure\": \"890.07hPa\", \"temperature\": \"21.92C\", \"humidity\": \"44.83%\", \"read_datetime\": \"2023-9-6 17:49:51\"}, \"picow\": {\"local_ip\": \"192.168.1.74\", \"temperature\": 24.24184}}')\n",
    "\n",
    "\n",
    "producer.flush()\n",
    "# Print message\n",
    "print(\"Message Sent\")"
   ]
  },
  {
   "cell_type": "code",
   "execution_count": null,
   "id": "4abd9df8-49f3-4d1b-818f-da71ccdeb9ff",
   "metadata": {},
   "outputs": [],
   "source": [
    "from kafka import KafkaConsumer\n",
    "from json import loads\n",
    "\n",
    "consumer = KafkaConsumer(\n",
    "    'iot_source',\n",
    "    bootstrap_servers=['kafka:9092'],\n",
    "    auto_offset_reset = 'earliest',\n",
    "    group_id=None,\n",
    ")\n",
    "\n",
    "print('Listening')\n",
    "for msg in consumer:\n",
    "    print(msg)"
   ]
  }
 ],
 "metadata": {
  "kernelspec": {
   "display_name": "Python 3 (ipykernel)",
   "language": "python",
   "name": "python3"
  },
  "language_info": {
   "codemirror_mode": {
    "name": "ipython",
    "version": 3
   },
   "file_extension": ".py",
   "mimetype": "text/x-python",
   "name": "python",
   "nbconvert_exporter": "python",
   "pygments_lexer": "ipython3",
   "version": "3.11.5"
  }
 },
 "nbformat": 4,
 "nbformat_minor": 5
}
