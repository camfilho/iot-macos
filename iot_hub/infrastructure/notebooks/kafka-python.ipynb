{
 "cells": [
  {
   "cell_type": "code",
   "execution_count": 2,
   "id": "b6aa59fc-6228-4e70-bab7-c0b46080cabf",
   "metadata": {},
   "outputs": [
    {
     "name": "stdout",
     "output_type": "stream",
     "text": [
      "Collecting kafka-python\n",
      "  Downloading kafka_python-2.0.2-py2.py3-none-any.whl (246 kB)\n",
      "\u001b[2K     \u001b[90m━━━━━━━━━━━━━━━━━━━━━━━━━━━━━━━━━━━━━━━\u001b[0m \u001b[32m246.5/246.5 kB\u001b[0m \u001b[31m3.3 MB/s\u001b[0m eta \u001b[36m0:00:00\u001b[0ma \u001b[36m0:00:01\u001b[0m\n",
      "\u001b[?25hInstalling collected packages: kafka-python\n",
      "Successfully installed kafka-python-2.0.2\n"
     ]
    }
   ],
   "source": [
    "!pip install kafka-python"
   ]
  },
  {
   "cell_type": "code",
   "execution_count": 3,
   "id": "54a7531f-6770-4c5b-9567-d6aded05a72c",
   "metadata": {},
   "outputs": [
    {
     "name": "stdout",
     "output_type": "stream",
     "text": [
      "Message Sent\n"
     ]
    }
   ],
   "source": [
    "# Import KafkaProducer from Kafka library\n",
    "from kafka import KafkaProducer\n",
    "\n",
    "# Define server with port\n",
    "bootstrap_servers = ['kafka:9092']\n",
    "\n",
    "# Define topic name where the message will publish\n",
    "topicName = 'iot_source'\n",
    "\n",
    "# Initialize producer variable\n",
    "producer = KafkaProducer(bootstrap_servers = bootstrap_servers)\n",
    "\n",
    "# Publish text in defined topic\n",
    "producer.send(topicName, b'{\"bme280\": {\"pressure\": \"890.07hPa\", \"temperature\": \"21.92C\", \"humidity\": \"44.83%\", \"read_datetime\": \"2023-9-6 17:49:51\"}, \"picow\": {\"local_ip\": \"192.168.1.74\", \"temperature\": 24.24184}}')\n",
    "\n",
    "\n",
    "producer.flush()\n",
    "# Print message\n",
    "print(\"Message Sent\")"
   ]
  },
  {
   "cell_type": "code",
   "execution_count": 24,
   "id": "4abd9df8-49f3-4d1b-818f-da71ccdeb9ff",
   "metadata": {},
   "outputs": [],
   "source": [
    "from kafka import KafkaConsumer\n",
    "from json import loads\n",
    "\n",
    "consumer = KafkaConsumer(\n",
    "    'iot_source',\n",
    "    bootstrap_servers=['kafka:9092'],\n",
    "    auto_offset_reset = 'latest',\n",
    "    group_id=None,\n",
    ")\n",
    "\n",
    "print('Listening')\n",
    "#print([msg for msg in consumer])\n",
    "for msg in consumer:\n",
    "    data = loads(msg.value.decode(\"utf-8\"))\n",
    "    \n",
    "    bme280 = {\"datetime\": data[\"bme280\"][\"read_datetime\"],\n",
    "              #\"pressure\": data[\"bme280\"][\"pressure\"].,\n",
    "              \"humidity\": float(data[\"bme280\"][\"humidity\"].replace(\"%\",\"\")),\n",
    "              \"temperature\": float(data[\"bme280\"][\"temperature\"].replace(\"C\",\"\"))}\n",
    "    print(bme280)\n",
    "    "
   ]
  },
  {
   "cell_type": "code",
   "execution_count": null,
   "id": "ac749533-40f3-45f6-8bfb-92b362a39bd9",
   "metadata": {},
   "outputs": [],
   "source": []
  }
 ],
 "metadata": {
  "kernelspec": {
   "display_name": "Python 3 (ipykernel)",
   "language": "python",
   "name": "python3"
  },
  "language_info": {
   "codemirror_mode": {
    "name": "ipython",
    "version": 3
   },
   "file_extension": ".py",
   "mimetype": "text/x-python",
   "name": "python",
   "nbconvert_exporter": "python",
   "pygments_lexer": "ipython3",
   "version": "3.11.5"
  }
 },
 "nbformat": 4,
 "nbformat_minor": 5
}
