{
 "cells": [
  {
   "cell_type": "code",
   "execution_count": 3,
   "id": "abb10b99-c0bd-4dc5-88df-c5d4359bab85",
   "metadata": {},
   "outputs": [],
   "source": [
    "from pyspark.sql.session import SparkSession\n",
    "import os\n",
    "path = f\"{os.getcwd()}/../\"\n",
    "\n",
    "from pyspark.sql.types import StructType, StructField, StringType, DoubleType, IntegerType, DateType, TimestampType\n",
    "from pyspark.sql.functions import lit, col, from_json, regexp_replace, to_timestamp, current_timestamp, to_utc_timestamp"
   ]
  },
  {
   "cell_type": "code",
   "execution_count": 4,
   "id": "b9385b13-60f6-484b-8ffd-8631e267652a",
   "metadata": {},
   "outputs": [],
   "source": [
    "packages = [\n",
    "    \"org.apache.spark:spark-sql-kafka-0-10_2.12:3.4.1\",\n",
    "    \"org.apache.kafka:kafka-clients:3.2.1\"\n",
    "]\n",
    "\n",
    "jars = [\n",
    "    f\"{path}/jars/commons-pool2-2.11.1.jar\",\n",
    "    f\"{path}/jars/spark-sql-kafka-0-10_2.12-3.4.1.jar\",\n",
    "    f\"{path}/jars/kafka-clients-3.5.1.jar\",\n",
    "    f\"{path}/jars/spark-token-provider-kafka-0-10_2.12-3.4.1.jar\",\n",
    "    f\"{path}/jars/mysql-connector-j-8.0.31.jar\",\n",
    "]\n",
    "\n",
    "spark = (SparkSession\n",
    "         .Builder()\n",
    "         .appName(name=\"test_kafka\")\n",
    "         .master(\"spark://spark:7077\")\n",
    "         .config(\"spark.jars\", \",\".join(jars))\n",
    "         .config(\"spark.jars.packages\", \",\".join(packages))\n",
    "         #.config(\"spark.redis.host\", \"redis\")\n",
    "         #.config(\"spark.redis.port\", \"6379\")\n",
    "         .getOrCreate())"
   ]
  },
  {
   "cell_type": "code",
   "execution_count": 5,
   "id": "56761c10-bb4f-42dc-9b2c-a7530bb2b1d5",
   "metadata": {},
   "outputs": [
    {
     "data": {
      "text/html": [
       "\n",
       "            <div>\n",
       "                <p><b>SparkSession - in-memory</b></p>\n",
       "                \n",
       "        <div>\n",
       "            <p><b>SparkContext</b></p>\n",
       "\n",
       "            <p><a href=\"http://d573a07ad2c0:4040\">Spark UI</a></p>\n",
       "\n",
       "            <dl>\n",
       "              <dt>Version</dt>\n",
       "                <dd><code>v3.4.1</code></dd>\n",
       "              <dt>Master</dt>\n",
       "                <dd><code>spark://spark:7077</code></dd>\n",
       "              <dt>AppName</dt>\n",
       "                <dd><code>test_kafka</code></dd>\n",
       "            </dl>\n",
       "        </div>\n",
       "        \n",
       "            </div>\n",
       "        "
      ],
      "text/plain": [
       "<pyspark.sql.session.SparkSession at 0x7f88846950>"
      ]
     },
     "execution_count": 5,
     "metadata": {},
     "output_type": "execute_result"
    }
   ],
   "source": [
    "spark"
   ]
  },
  {
   "cell_type": "code",
   "execution_count": 6,
   "id": "c66155ad-3d27-421c-a3b7-18b9b4daa75c",
   "metadata": {},
   "outputs": [
    {
     "data": {
      "text/plain": [
       "2"
      ]
     },
     "execution_count": 6,
     "metadata": {},
     "output_type": "execute_result"
    }
   ],
   "source": [
    "spark.sparkContext.defaultParallelism"
   ]
  },
  {
   "cell_type": "code",
   "execution_count": 7,
   "id": "e453da06-3f1c-4d79-813b-25841a91e3dd",
   "metadata": {},
   "outputs": [],
   "source": [
    "#spark.stop()"
   ]
  },
  {
   "cell_type": "code",
   "execution_count": 8,
   "id": "80cf8a0b-4952-4865-bb31-495cf323748d",
   "metadata": {},
   "outputs": [],
   "source": [
    "schema = StructType([\n",
    "    StructField(\"id\", IntegerType()),\n",
    "    StructField(\"bme280\", StructType([\n",
    "        StructField(\"pressure\", StringType()),\n",
    "        StructField(\"temperature\", StringType()),\n",
    "        StructField(\"humidity\", StringType()),\n",
    "        StructField(\"read_datetime\", StringType())\n",
    "    ])),\n",
    "    StructField(\"picow\", StructType([\n",
    "        StructField(\"local_ip\", StringType()),\n",
    "        StructField(\"temperature\", DoubleType()),\n",
    "        StructField(\"free_storage_kb\", DoubleType()),\n",
    "        StructField(\"mem_alloc_bytes\", DoubleType()),\n",
    "        StructField(\"mem_free_bytes\", DoubleType()),\n",
    "        StructField(\"cpu_freq_mhz\", DoubleType())\n",
    "    ]))\n",
    "])"
   ]
  },
  {
   "cell_type": "code",
   "execution_count": 9,
   "id": "3ca30f74-0c5b-4cf7-8837-87aac5633b31",
   "metadata": {},
   "outputs": [],
   "source": [
    "picow_df = (spark \n",
    "              .read\n",
    "              .format(\"kafka\") \n",
    "              .option(\"kafka.bootstrap.servers\", \"kafka:9092\") \n",
    "              .option(\"subscribe\", \"iot_source\")\n",
    "              #.option(\"startingOffsets\", \"earliest\")\n",
    "              #.option(\"endingOffsets\", \"latest\")\n",
    "              .load())\n",
    "\n",
    "df = (picow_df\n",
    "      .where(\"offset > 2\")\n",
    "      .selectExpr(\"CAST(offset AS INTEGER)\",\"CAST(timestamp AS TIMESTAMP)\",\"CAST(key AS STRING)\", \"CAST(value AS STRING)\", \"CAST(topic AS STRING)\"))"
   ]
  },
  {
   "cell_type": "code",
   "execution_count": 10,
   "id": "5b525b7a-bb4f-4427-95a4-309bca201b5e",
   "metadata": {},
   "outputs": [],
   "source": [
    "stg_df =  (df\n",
    "            .withColumn('data', from_json(col('value'), schema))\n",
    "            .selectExpr(\"offset as kafka_offset\",\n",
    "                        \"timestamp as kafka_datetime\",\n",
    "                        \"topic as kafka_topic\",\n",
    "                        \"data.id as id\",\n",
    "                        \"data.bme280.pressure as bme280_pressure\",\n",
    "                        \"data.bme280.temperature as bme280_temperature\",\n",
    "                        \"data.bme280.humidity as bme280_humidity\",\n",
    "                        \"data.bme280.read_datetime as read_datetime\",\n",
    "                        \"data.picow.local_ip as picow_local_ip\",\n",
    "                        \"data.picow.temperature as picow_temperature\",\n",
    "                        \"data.picow.mem_alloc_bytes as picow_mem_alloc_bytes\",\n",
    "                        \"data.picow.mem_free_bytes as picow_mem_free_bytes\",\n",
    "                        \"data.picow.cpu_freq_mhz as picow_cpu_freq_mhz\",\n",
    "                       )\n",
    "            .drop(\"key\",\"value\"))\n",
    "\n",
    "final_df = (stg_df\n",
    "                .withColumn(\"kafka_datetime\", to_utc_timestamp(col(\"kafka_datetime\"), \"UTC\"))\n",
    "                .withColumn(\"spark_process_datetime\", current_timestamp())\n",
    "                .withColumn(\"bme280_pressure\",regexp_replace(col(\"bme280_pressure\"),\"hPa\",\"\").cast(DoubleType()))\n",
    "                .withColumn(\"bme280_temperature\",regexp_replace(col(\"bme280_temperature\"),\"C\",\"\").cast(DoubleType()))\n",
    "                .withColumn(\"bme280_humidity\",regexp_replace(col(\"bme280_humidity\"),\"%\",\"\").cast(DoubleType()))\n",
    "                .withColumn(\"read_datetime\", to_timestamp(col(\"read_datetime\"), \"yyyy-M-d HH:mm:s\"))\n",
    "                .withColumn(\"read_datetime\", to_utc_timestamp(col(\"kafka_datetime\"), \"UTC\"))\n",
    "                .withColumn(\"read_date\",col(\"read_datetime\").cast(\"DATE\"))\n",
    "                .orderBy(col(\"read_datetime\").desc())\n",
    "                .where(\"id is not null\")\n",
    "           )\n",
    "\n",
    "#final_df.printSchema()\n",
    "#final_df.show(10,False)\n"
   ]
  },
  {
   "cell_type": "code",
   "execution_count": 11,
   "id": "baa66633-08ec-47a4-aa10-57924c67c77e",
   "metadata": {},
   "outputs": [
    {
     "data": {
      "text/plain": [
       "130899"
      ]
     },
     "execution_count": 11,
     "metadata": {},
     "output_type": "execute_result"
    }
   ],
   "source": [
    "final_df.count()"
   ]
  },
  {
   "cell_type": "code",
   "execution_count": 23,
   "id": "7fe3fc55-fcf9-4311-b196-cd2a63aa3cab",
   "metadata": {},
   "outputs": [
    {
     "name": "stdout",
     "output_type": "stream",
     "text": [
      "+------------+-----------------------+-----------+--------+---------------+------------------+---------------+-----------------------+--------------+-----------------+---------------------+--------------------+------------------+--------------------------+----------+\n",
      "|kafka_offset|kafka_datetime         |kafka_topic|id      |bme280_pressure|bme280_temperature|bme280_humidity|read_datetime          |picow_local_ip|picow_temperature|picow_mem_alloc_bytes|picow_mem_free_bytes|picow_cpu_freq_mhz|spark_process_datetime    |read_date |\n",
      "+------------+-----------------------+-----------+--------+---------------+------------------+---------------+-----------------------+--------------+-----------------+---------------------+--------------------+------------------+--------------------------+----------+\n",
      "|49138       |2023-10-13 23:59:57.659|iot_source |458679  |895.02         |24.48             |39.02          |2023-10-13 23:59:57.659|192.168.1.70  |27.0444          |150976.0             |41792.0             |125.0             |2023-10-16 16:26:15.507259|2023-10-13|\n",
      "|49137       |2023-10-13 23:59:55.046|iot_source |52553327|895.14         |24.49             |39.02          |2023-10-13 23:59:55.046|192.168.1.70  |27.51254         |146096.0             |46672.0             |125.0             |2023-10-16 16:26:15.507259|2023-10-13|\n",
      "|49136       |2023-10-13 23:59:52.424|iot_source |28989287|895.15         |24.48             |39.02          |2023-10-13 23:59:52.424|192.168.1.70  |27.0444          |141216.0             |51552.0             |125.0             |2023-10-16 16:26:15.507259|2023-10-13|\n",
      "|49134       |2023-10-13 23:59:49.52 |iot_source |6854214 |895.1          |24.48             |39.02          |2023-10-13 23:59:49.52 |192.168.1.70  |27.0444          |136368.0             |56400.0             |125.0             |2023-10-16 16:26:15.507259|2023-10-13|\n",
      "|49133       |2023-10-13 23:59:46.908|iot_source |42766672|895.14         |24.49             |39.01          |2023-10-13 23:59:46.908|192.168.1.70  |27.0444          |131488.0             |61280.0             |125.0             |2023-10-16 16:26:15.507259|2023-10-13|\n",
      "|49132       |2023-10-13 23:59:44.295|iot_source |50392509|895.07         |24.48             |39.01          |2023-10-13 23:59:44.295|192.168.1.70  |27.0444          |126608.0             |66160.0             |125.0             |2023-10-16 16:26:15.507259|2023-10-13|\n",
      "|49131       |2023-10-13 23:59:41.672|iot_source |45409509|895.07         |24.48             |39.01          |2023-10-13 23:59:41.672|192.168.1.70  |27.0444          |121728.0             |71040.0             |125.0             |2023-10-16 16:26:15.507259|2023-10-13|\n",
      "|49130       |2023-10-13 23:59:38.779|iot_source |4632994 |895.1          |24.48             |39.02          |2023-10-13 23:59:38.779|192.168.1.70  |27.51254         |116848.0             |75920.0             |125.0             |2023-10-16 16:26:15.507259|2023-10-13|\n",
      "|49129       |2023-10-13 23:59:36.167|iot_source |25563788|895.14         |24.49             |39.02          |2023-10-13 23:59:36.167|192.168.1.70  |27.0444          |111968.0             |80800.0             |125.0             |2023-10-16 16:26:15.507259|2023-10-13|\n",
      "|49128       |2023-10-13 23:59:33.554|iot_source |23641483|895.07         |24.48             |39.01          |2023-10-13 23:59:33.554|192.168.1.70  |27.51254         |107088.0             |85680.0             |125.0             |2023-10-16 16:26:15.507259|2023-10-13|\n",
      "+------------+-----------------------+-----------+--------+---------------+------------------+---------------+-----------------------+--------------+-----------------+---------------------+--------------------+------------------+--------------------------+----------+\n",
      "only showing top 10 rows\n",
      "\n"
     ]
    }
   ],
   "source": [
    "final_df.where(\"read_date < '2023-10-14'\").show(10,False)"
   ]
  },
  {
   "cell_type": "code",
   "execution_count": 36,
   "id": "2e34b89d-2989-428e-b956-2f3594046a26",
   "metadata": {},
   "outputs": [],
   "source": [
    "from pyspark.sql.functions import count, avg, round, month,year, dayofmonth, min, max, hour, desc\n",
    "\n",
    "agg_by_hour_df = (\n",
    "                 final_df\n",
    "                 .withColumn(\"day\", dayofmonth(col(\"read_date\")))\n",
    "                 .withColumn(\"month\", month(col(\"read_date\")))\n",
    "                 .withColumn(\"year\", year(col(\"read_date\")))\n",
    "                 \n",
    "                 .groupBy(\"year\", \"month\", \"day\", hour(col(\"read_datetime\")).alias(\"hour\"))\n",
    "                 .agg(\n",
    "                      count(col(\"id\")).alias(\"count\"),\n",
    "\n",
    "                      # date columns\n",
    "                      max(col(\"read_datetime\")).alias(\"datetime\"),\n",
    "                      max(col(\"read_date\")).alias(\"date\"),\n",
    "                      \n",
    "                      # bme temperature metrics\n",
    "                      round(min(col(\"bme280_temperature\")),2).alias(\"min_bme_temp\"),\n",
    "                      round(avg(col(\"bme280_temperature\")),2).alias(\"avg_bme_temp\"),\n",
    "                      round(max(col(\"bme280_temperature\")),2).alias(\"max_bme_temp\"),\n",
    "                      \n",
    "\n",
    "                      # picow temperature metrics\n",
    "                      round(min(col(\"picow_temperature\")),2).alias(\"min_picow_temp\"),\n",
    "                      round(avg(col(\"picow_temperature\")),2).alias(\"avg_picow_temp\"),\n",
    "                      round(max(col(\"picow_temperature\")),2).alias(\"max_picow_temp\"),\n",
    "\n",
    "                     # bme humidity metrics\n",
    "                      round(min(col(\"bme280_humidity\")),2).alias(\"min_bme_hum\"),\n",
    "                      round(avg(col(\"bme280_humidity\")),2).alias(\"avg_bme_hum\"),\n",
    "                      round(max(col(\"bme280_humidity\")),2).alias(\"max_bme_hum\"),\n",
    "\n",
    "                     # bme pressure metrics\n",
    "                      round(min(col(\"bme280_pressure\")),2).alias(\"min_bme_press\"),\n",
    "                      round(avg(col(\"bme280_pressure\")),2).alias(\"avg_bme_press\"),\n",
    "                      round(max(col(\"bme280_pressure\")),2).alias(\"max_bme_press\")\n",
    "                      \n",
    "                     )\n",
    "                 .sort(desc(\"year\"), desc(\"month\"), desc(\"day\"), desc(\"hour\"))\n",
    "                 .selectExpr(\"datetime\",\n",
    "                             \"date\",\n",
    "                             \"year\",\n",
    "                             \"month\",\n",
    "                             \"day\",\n",
    "                             \"hour\",\n",
    "                             \"count\",\n",
    "                             \"min_bme_temp\",\n",
    "                             \"avg_bme_temp\",\n",
    "                             \"max_bme_temp\",\n",
    "                             \"min_picow_temp\",\n",
    "                             \"avg_picow_temp\",\n",
    "                             \"max_picow_temp\",\n",
    "                             \"min_bme_hum\",\n",
    "                             \"avg_bme_hum\",\n",
    "                             \"max_bme_hum\",\n",
    "                             \"min_bme_press\",\n",
    "                             \"avg_bme_press\",\n",
    "                             \"max_bme_press\",\n",
    "                            )\n",
    "                )"
   ]
  },
  {
   "cell_type": "code",
   "execution_count": 80,
   "id": "c25a96cb-5194-4361-a7c0-e217095b8071",
   "metadata": {},
   "outputs": [
    {
     "name": "stdout",
     "output_type": "stream",
     "text": [
      "0\n"
     ]
    }
   ],
   "source": [
    "mysql_tables = (spark.read \n",
    "                    .format(\"jdbc\") \n",
    "                    .option(\"driver\", \"com.mysql.jdbc.Driver\") \n",
    "                    .option(\"url\", \"jdbc:mysql://mariadb:3306/data?rewriteBatchedStatements=true\") \n",
    "                    .option(\"user\", \"mysql\") \n",
    "                    .option(\"password\", \"mysql\") \n",
    "                    .option(\"dbtable\", \"information_schema.tables\")\n",
    "                    .load()\n",
    "                    .filter(\"TABLE_SCHEMA = 'data'\")\n",
    "                    .select(\"TABLE_NAME\")\n",
    "                    .collect())\n",
    "\n",
    "mysql_tables_list = [row[\"TABLE_NAME\"] for row in mysql_tables]\n",
    "\n",
    "if 'agg_by_hour_df' in mysql_tables_list:\n",
    "    agg_by_hour_df_read = (spark.read \n",
    "                            .format(\"jdbc\") \n",
    "                            .option(\"driver\", \"com.mysql.jdbc.Driver\") \n",
    "                            .option(\"url\", \"jdbc:mysql://mariadb:3306/data?rewriteBatchedStatements=true\") \n",
    "                            .option(\"user\", \"mysql\") \n",
    "                            .option(\"password\", \"mysql\") \n",
    "                            .option(\"dbtable\", \"agg_by_hour_df\")\n",
    "                            .load())\n",
    "    \n",
    "    agg_by_hour_df_combined = agg_by_hour_df_read.join(agg_by_hour_df,\n",
    "                                                  agg_by_hour_df.datetime == agg_by_hour_df_read.datetime,\n",
    "                                                  'inner')\n",
    "    print(agg_by_hour_df_combined.count())\n",
    "else:\n",
    "    agg_by_hour_df_combined = agg_by_hour_df"
   ]
  },
  {
   "cell_type": "code",
   "execution_count": 93,
   "id": "2eb460f5-9592-4c99-9f36-e67135960d8e",
   "metadata": {},
   "outputs": [
    {
     "name": "stdout",
     "output_type": "stream",
     "text": [
      "root\n",
      " |-- datetime: timestamp (nullable = true)\n",
      " |-- date: date (nullable = true)\n",
      " |-- year: integer (nullable = true)\n",
      " |-- month: integer (nullable = true)\n",
      " |-- day: integer (nullable = true)\n",
      " |-- hour: integer (nullable = true)\n",
      " |-- count: long (nullable = true)\n",
      " |-- min_bme_temp: double (nullable = true)\n",
      " |-- avg_bme_temp: double (nullable = true)\n",
      " |-- max_bme_temp: double (nullable = true)\n",
      " |-- min_picow_temp: double (nullable = true)\n",
      " |-- avg_picow_temp: double (nullable = true)\n",
      " |-- max_picow_temp: double (nullable = true)\n",
      " |-- min_bme_hum: double (nullable = true)\n",
      " |-- avg_bme_hum: double (nullable = true)\n",
      " |-- max_bme_hum: double (nullable = true)\n",
      " |-- min_bme_press: double (nullable = true)\n",
      " |-- avg_bme_press: double (nullable = true)\n",
      " |-- max_bme_press: double (nullable = true)\n",
      "\n",
      "+-------------------+----------+----+-----+---+----+-----+------------+------------+------------+--------------+--------------+--------------+-----------+-----------+-----------+-------------+-------------+-------------+-------------------+\n",
      "|datetime           |date      |year|month|day|hour|count|min_bme_temp|avg_bme_temp|max_bme_temp|min_picow_temp|avg_picow_temp|max_picow_temp|min_bme_hum|avg_bme_hum|max_bme_hum|min_bme_press|avg_bme_press|max_bme_press|datetime2          |\n",
      "+-------------------+----------+----+-----+---+----+-----+------------+------------+------------+--------------+--------------+--------------+-----------+-----------+-----------+-------------+-------------+-------------+-------------------+\n",
      "|2023-10-16 16:34:23|2023-10-16|2023|10   |16 |16  |780  |23.89       |24.01       |24.14       |26.11         |26.76         |27.51         |42.7       |43.24      |43.76      |894.17       |894.34       |894.53       |2023-10-16 16:34:23|\n",
      "|2023-10-16 15:59:57|2023-10-16|2023|10   |16 |15  |1261 |23.26       |23.71       |24.01       |26.11         |26.63         |27.51         |43.12      |43.73      |44.42      |894.39       |894.76       |895.12       |2023-10-16 15:59:57|\n",
      "|2023-10-16 14:59:57|2023-10-16|2023|10   |16 |14  |1236 |23.22       |23.28       |23.35       |25.64         |26.13         |27.04         |43.0       |43.19      |43.4       |894.83       |895.03       |895.34       |2023-10-16 14:59:57|\n",
      "|2023-10-16 13:59:58|2023-10-16|2023|10   |16 |13  |1268 |23.18       |23.26       |23.32       |25.17         |26.09         |26.58         |43.09      |43.52      |43.95      |895.07       |895.35       |895.52       |2023-10-16 13:59:58|\n",
      "|2023-10-16 12:59:58|2023-10-16|2023|10   |16 |12  |1254 |23.17       |23.25       |23.3        |25.17         |26.08         |26.58         |43.56      |43.82      |44.03      |895.36       |895.6        |895.88       |2023-10-16 12:59:58|\n",
      "|2023-10-16 11:59:58|2023-10-16|2023|10   |16 |11  |1261 |23.18       |23.25       |23.3        |25.17         |26.08         |26.58         |43.48      |43.71      |43.97      |895.43       |895.8        |896.16       |2023-10-16 11:59:58|\n",
      "|2023-10-16 10:59:57|2023-10-16|2023|10   |16 |10  |1286 |23.18       |23.25       |23.3        |25.17         |26.07         |26.58         |43.7       |43.98      |44.3       |895.89       |896.17       |896.41       |2023-10-16 10:59:57|\n",
      "|2023-10-16 09:59:58|2023-10-16|2023|10   |16 |9   |1277 |23.19       |23.26       |23.32       |25.17         |26.09         |26.58         |44.12      |44.6       |45.09      |896.2        |896.57       |896.93       |2023-10-16 09:59:58|\n",
      "|2023-10-16 08:59:57|2023-10-16|2023|10   |16 |8   |1281 |23.21       |23.27       |23.33       |25.17         |26.09         |26.58         |44.82      |45.53      |46.42      |896.68       |896.85       |897.02       |2023-10-16 08:59:57|\n",
      "|2023-10-16 07:59:59|2023-10-16|2023|10   |16 |7   |1281 |23.2        |23.28       |23.33       |25.17         |26.1          |26.58         |46.15      |47.04      |47.66      |896.69       |896.88       |897.08       |2023-10-16 07:59:59|\n",
      "+-------------------+----------+----+-----+---+----+-----+------------+------------+------------+--------------+--------------+--------------+-----------+-----------+-----------+-------------+-------------+-------------+-------------------+\n",
      "only showing top 10 rows\n",
      "\n",
      "root\n",
      " |-- datetime: timestamp (nullable = true)\n",
      " |-- date: date (nullable = true)\n",
      " |-- year: integer (nullable = true)\n",
      " |-- month: integer (nullable = true)\n",
      " |-- day: integer (nullable = true)\n",
      " |-- hour: integer (nullable = true)\n",
      " |-- count: long (nullable = false)\n",
      " |-- min_bme_temp: double (nullable = true)\n",
      " |-- avg_bme_temp: double (nullable = true)\n",
      " |-- max_bme_temp: double (nullable = true)\n",
      " |-- min_picow_temp: double (nullable = true)\n",
      " |-- avg_picow_temp: double (nullable = true)\n",
      " |-- max_picow_temp: double (nullable = true)\n",
      " |-- min_bme_hum: double (nullable = true)\n",
      " |-- avg_bme_hum: double (nullable = true)\n",
      " |-- max_bme_hum: double (nullable = true)\n",
      " |-- min_bme_press: double (nullable = true)\n",
      " |-- avg_bme_press: double (nullable = true)\n",
      " |-- max_bme_press: double (nullable = true)\n",
      "\n",
      "+-----------------------+----------+----+-----+---+----+-----+------------+------------+------------+--------------+--------------+--------------+-----------+-----------+-----------+-------------+-------------+-------------+\n",
      "|datetime               |date      |year|month|day|hour|count|min_bme_temp|avg_bme_temp|max_bme_temp|min_picow_temp|avg_picow_temp|max_picow_temp|min_bme_hum|avg_bme_hum|max_bme_hum|min_bme_press|avg_bme_press|max_bme_press|\n",
      "+-----------------------+----------+----+-----+---+----+-----+------------+------------+------------+--------------+--------------+--------------+-----------+-----------+-----------+-------------+-------------+-------------+\n",
      "|2023-10-16 17:06:12.786|2023-10-16|2023|10   |16 |17  |141  |24.04       |24.09       |24.18       |26.11         |26.74         |27.51         |42.37      |42.72      |42.99      |893.58       |893.67       |893.77       |\n",
      "|2023-10-16 16:59:57.875|2023-10-16|2023|10   |16 |16  |1359 |23.89       |24.05       |24.16       |26.11         |26.78         |27.51         |42.3       |43.06      |43.76      |893.6        |894.19       |894.53       |\n",
      "|2023-10-16 15:59:57.084|2023-10-16|2023|10   |16 |15  |1261 |23.26       |23.71       |24.01       |26.11         |26.63         |27.51         |43.12      |43.73      |44.42      |894.39       |894.76       |895.12       |\n",
      "|2023-10-16 14:59:57.483|2023-10-16|2023|10   |16 |14  |1236 |23.22       |23.28       |23.35       |25.64         |26.13         |27.04         |43.0       |43.19      |43.4       |894.83       |895.03       |895.34       |\n",
      "|2023-10-16 13:59:58.667|2023-10-16|2023|10   |16 |13  |1268 |23.18       |23.26       |23.32       |25.17         |26.09         |26.58         |43.09      |43.52      |43.95      |895.07       |895.35       |895.52       |\n",
      "|2023-10-16 12:59:58.331|2023-10-16|2023|10   |16 |12  |1254 |23.17       |23.25       |23.3        |25.17         |26.08         |26.58         |43.56      |43.82      |44.03      |895.36       |895.6        |895.88       |\n",
      "|2023-10-16 11:59:58.804|2023-10-16|2023|10   |16 |11  |1261 |23.18       |23.25       |23.3        |25.17         |26.08         |26.58         |43.48      |43.71      |43.97      |895.43       |895.8        |896.16       |\n",
      "|2023-10-16 10:59:57.015|2023-10-16|2023|10   |16 |10  |1286 |23.18       |23.25       |23.3        |25.17         |26.07         |26.58         |43.7       |43.98      |44.3       |895.89       |896.17       |896.41       |\n",
      "|2023-10-16 09:59:58.246|2023-10-16|2023|10   |16 |9   |1277 |23.19       |23.26       |23.32       |25.17         |26.09         |26.58         |44.12      |44.6       |45.09      |896.2        |896.57       |896.93       |\n",
      "|2023-10-16 08:59:57.817|2023-10-16|2023|10   |16 |8   |1281 |23.21       |23.27       |23.33       |25.17         |26.09         |26.58         |44.82      |45.53      |46.42      |896.68       |896.85       |897.02       |\n",
      "+-----------------------+----------+----+-----+---+----+-----+------------+------------+------------+--------------+--------------+--------------+-----------+-----------+-----------+-------------+-------------+-------------+\n",
      "only showing top 10 rows\n",
      "\n"
     ]
    }
   ],
   "source": [
    "agg_by_hour_df_read.printSchema()\n",
    "agg_by_hour_df_read.show(10,False)\n",
    "agg_by_hour_df.printSchema()\n",
    "agg_by_hour_df.show(10,False)"
   ]
  },
  {
   "cell_type": "code",
   "execution_count": 38,
   "id": "23f72e87-9443-4aba-89dd-16ac6a99387b",
   "metadata": {},
   "outputs": [],
   "source": [
    "(agg_by_hour_df.write \n",
    "        .format(\"jdbc\") \n",
    "        .mode(\"overwrite\") \n",
    "        .option(\"driver\", \"com.mysql.jdbc.Driver\") \n",
    "        .option(\"url\", \"jdbc:mysql://mariadb:3306/data?rewriteBatchedStatements=true\") \n",
    "        .option(\"user\", \"mysql\") \n",
    "        .option(\"password\", \"mysql\") \n",
    "        .option(\"dbtable\", \"agg_by_hour_df\") \n",
    "        .save())"
   ]
  },
  {
   "cell_type": "code",
   "execution_count": null,
   "id": "ec2267dc-a71b-45b5-b10d-129c0f9a62c7",
   "metadata": {},
   "outputs": [],
   "source": [
    "agg_by_ip_df = (final_df\n",
    "                .groupBy(\"picow_local_ip\")\n",
    "                .agg(count(col(\"id\")).alias(\"messages\"))\n",
    "                .selectExpr(\"picow_local_ip as source_ip\", \"messages\")\n",
    "               )\n"
   ]
  },
  {
   "cell_type": "code",
   "execution_count": null,
   "id": "028627c1-b6a0-4fae-a4ca-cc6d3868e6e7",
   "metadata": {},
   "outputs": [],
   "source": [
    "(agg_by_ip_df.write \n",
    "        .format(\"jdbc\") \n",
    "        .mode(\"overwrite\") \n",
    "        .option(\"driver\", \"com.mysql.jdbc.Driver\") \n",
    "        .option(\"url\", \"jdbc:mysql://mariadb:3306/data?rewriteBatchedStatements=true\") \n",
    "        .option(\"user\", \"mysql\") \n",
    "        .option(\"password\", \"mysql\") \n",
    "        .option(\"dbtable\", \"agg_by_ip_df\") \n",
    "        .save())"
   ]
  },
  {
   "cell_type": "code",
   "execution_count": 29,
   "id": "ad75ab76-cb96-4c20-8bae-ddd842b8f07f",
   "metadata": {},
   "outputs": [],
   "source": [
    "pdf = agg_by_hour_df.toPandas()\n",
    "pdf.to_csv(f\"{path}data/agg_by_hour_df.csv\", index=False)\n",
    "pdf_ip = agg_by_ip_df.toPandas()\n",
    "pdf_ip.to_csv(f\"{path}data/agg_by_ip_df.csv\", index=False)"
   ]
  }
 ],
 "metadata": {
  "kernelspec": {
   "display_name": "Python 3 (ipykernel)",
   "language": "python",
   "name": "python3"
  },
  "language_info": {
   "codemirror_mode": {
    "name": "ipython",
    "version": 3
   },
   "file_extension": ".py",
   "mimetype": "text/x-python",
   "name": "python",
   "nbconvert_exporter": "python",
   "pygments_lexer": "ipython3",
   "version": "3.11.5"
  }
 },
 "nbformat": 4,
 "nbformat_minor": 5
}
