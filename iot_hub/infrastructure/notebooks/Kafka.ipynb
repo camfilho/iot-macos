{
 "cells": [
  {
   "cell_type": "code",
   "execution_count": 1,
   "id": "abb10b99-c0bd-4dc5-88df-c5d4359bab85",
   "metadata": {},
   "outputs": [],
   "source": [
    "from pyspark.sql.session import SparkSession\n",
    "import os\n",
    "path = f\"{os.getcwd()}/../\""
   ]
  },
  {
   "cell_type": "code",
   "execution_count": 2,
   "id": "b9385b13-60f6-484b-8ffd-8631e267652a",
   "metadata": {},
   "outputs": [],
   "source": [
    "packages = [\n",
    "    \"org.apache.spark:spark-sql-kafka-0-10_2.12:3.4.1\",\n",
    "    \"org.apache.kafka:kafka-clients:3.2.1\"\n",
    "]\n",
    "\n",
    "jars = [\n",
    "    f\"{path}/jars/spark-sql-kafka-0-10_2.12-3.4.1.jar\",\n",
    "    f\"{path}/jars/kafka-clients-3.5.1.jar\",\n",
    "    f\"{path}/jars/mysql-connector-j-8.0.31.jar\",\n",
    "    f\"{path}/jars/commons-pool2-2.11.1.jar\",\n",
    "    f\"{path}/jars/spark-token-provider-kafka-0-10_2.12-3.4.1.jar\"\n",
    "]\n",
    "\n",
    "spark = (SparkSession\n",
    "         .Builder()\n",
    "         .appName(name=\"test_kafka\")\n",
    "         .master(\"spark://spark:7077\")\n",
    "         .config(\"spark.jars\", \",\".join(jars))\n",
    "         .config(\"spark.jars.packages\", \",\".join(packages))\\\n",
    "         .getOrCreate())"
   ]
  },
  {
   "cell_type": "code",
   "execution_count": 3,
   "id": "56761c10-bb4f-42dc-9b2c-a7530bb2b1d5",
   "metadata": {},
   "outputs": [
    {
     "data": {
      "text/html": [
       "\n",
       "            <div>\n",
       "                <p><b>SparkSession - in-memory</b></p>\n",
       "                \n",
       "        <div>\n",
       "            <p><b>SparkContext</b></p>\n",
       "\n",
       "            <p><a href=\"http://d96513828c0a:4040\">Spark UI</a></p>\n",
       "\n",
       "            <dl>\n",
       "              <dt>Version</dt>\n",
       "                <dd><code>v3.4.1</code></dd>\n",
       "              <dt>Master</dt>\n",
       "                <dd><code>spark://spark:7077</code></dd>\n",
       "              <dt>AppName</dt>\n",
       "                <dd><code>test_kafka</code></dd>\n",
       "            </dl>\n",
       "        </div>\n",
       "        \n",
       "            </div>\n",
       "        "
      ],
      "text/plain": [
       "<pyspark.sql.session.SparkSession at 0x7f9b6f4f90>"
      ]
     },
     "execution_count": 3,
     "metadata": {},
     "output_type": "execute_result"
    }
   ],
   "source": [
    "spark"
   ]
  },
  {
   "cell_type": "code",
   "execution_count": 4,
   "id": "c66155ad-3d27-421c-a3b7-18b9b4daa75c",
   "metadata": {},
   "outputs": [
    {
     "data": {
      "text/plain": [
       "2"
      ]
     },
     "execution_count": 4,
     "metadata": {},
     "output_type": "execute_result"
    }
   ],
   "source": [
    "spark.sparkContext.defaultParallelism"
   ]
  },
  {
   "cell_type": "code",
   "execution_count": 35,
   "id": "e453da06-3f1c-4d79-813b-25841a91e3dd",
   "metadata": {},
   "outputs": [],
   "source": [
    "#spark.stop()"
   ]
  },
  {
   "cell_type": "code",
   "execution_count": 6,
   "id": "80cf8a0b-4952-4865-bb31-495cf323748d",
   "metadata": {},
   "outputs": [],
   "source": [
    "from pyspark.sql.types import StructType, StructField, StringType, DoubleType, IntegerType, DateType, TimestampType\n",
    "\n",
    "schema = StructType([\n",
    "    StructField(\"id\", IntegerType()),\n",
    "    StructField(\"bme280\", StructType([\n",
    "        StructField(\"pressure\", StringType()),\n",
    "        StructField(\"temperature\", StringType()),\n",
    "        StructField(\"humidity\", StringType()),\n",
    "        StructField(\"read_datetime\", StringType())\n",
    "    ])),\n",
    "    StructField(\"picow\", StructType([\n",
    "        StructField(\"local_ip\", StringType()),\n",
    "        StructField(\"temperature\", DoubleType()),\n",
    "        StructField(\"free_storage_kb\", DoubleType()),\n",
    "        StructField(\"mem_alloc_bytes\", DoubleType()),\n",
    "        StructField(\"mem_free_bytes\", DoubleType()),\n",
    "        StructField(\"cpu_freq_mhz\", DoubleType())\n",
    "    ]))\n",
    "])"
   ]
  },
  {
   "cell_type": "code",
   "execution_count": 7,
   "id": "3ca30f74-0c5b-4cf7-8837-87aac5633b31",
   "metadata": {},
   "outputs": [],
   "source": [
    "picow_df = (spark \n",
    "              .read\n",
    "              .format(\"kafka\") \n",
    "              .option(\"kafka.bootstrap.servers\", \"kafka:9092\") \n",
    "              .option(\"subscribe\", \"iot_source\")\n",
    "              #.option(\"startingOffsets\", \"earliest\")\n",
    "              #.option(\"endingOffsets\", \"latest\")\n",
    "              .load())\n",
    "\n",
    "df = (picow_df\n",
    "      .where(\"offset > 2\")\n",
    "      .selectExpr(\"CAST(offset AS INTEGER)\",\"CAST(timestamp AS TIMESTAMP)\",\"CAST(key AS STRING)\", \"CAST(value AS STRING)\", \"CAST(topic AS STRING)\"))"
   ]
  },
  {
   "cell_type": "code",
   "execution_count": 16,
   "id": "5b525b7a-bb4f-4427-95a4-309bca201b5e",
   "metadata": {},
   "outputs": [
    {
     "name": "stdout",
     "output_type": "stream",
     "text": [
      "root\n",
      " |-- kafka_offset: integer (nullable = true)\n",
      " |-- kafka_datetime: timestamp (nullable = true)\n",
      " |-- kafka_topic: string (nullable = true)\n",
      " |-- id: integer (nullable = true)\n",
      " |-- bme280_pressure: double (nullable = true)\n",
      " |-- bme280_temperature: double (nullable = true)\n",
      " |-- bme280_humidity: double (nullable = true)\n",
      " |-- read_datetime: timestamp (nullable = true)\n",
      " |-- picow_local_ip: string (nullable = true)\n",
      " |-- picow_temperature: double (nullable = true)\n",
      " |-- picow_mem_alloc_bytes: double (nullable = true)\n",
      " |-- picow_mem_free_bytes: double (nullable = true)\n",
      " |-- picow_cpu_freq_mhz: double (nullable = true)\n",
      " |-- picow_temperature: double (nullable = true)\n",
      " |-- spark_process_datetime: timestamp (nullable = false)\n",
      "\n",
      "+------------+-----------------------+-----------+--------+---------------+------------------+---------------+-----------------------+--------------+-----------------+---------------------+--------------------+------------------+-----------------+--------------------------+\n",
      "|kafka_offset|kafka_datetime         |kafka_topic|id      |bme280_pressure|bme280_temperature|bme280_humidity|read_datetime          |picow_local_ip|picow_temperature|picow_mem_alloc_bytes|picow_mem_free_bytes|picow_cpu_freq_mhz|picow_temperature|spark_process_datetime    |\n",
      "+------------+-----------------------+-----------+--------+---------------+------------------+---------------+-----------------------+--------------+-----------------+---------------------+--------------------+------------------+-----------------+--------------------------+\n",
      "|1190        |2023-09-18 23:12:07.281|iot_source |13247837|886.43         |23.99             |37.37          |2023-09-18 23:12:07.281|192.168.50.111|26.11438         |181632.0             |11136.0             |125.0             |26.11438         |2023-09-18 23:12:06.281578|\n",
      "|1189        |2023-09-18 23:12:04.736|iot_source |27027254|886.29         |23.89             |37.39          |2023-09-18 23:12:04.736|192.168.50.111|26.11438         |178608.0             |14160.0             |125.0             |26.11438         |2023-09-18 23:12:06.281578|\n",
      "|1188        |2023-09-18 23:12:02.192|iot_source |37084465|886.48         |23.98             |37.38          |2023-09-18 23:12:02.192|192.168.50.111|26.11438         |175584.0             |17184.0             |125.0             |26.11438         |2023-09-18 23:12:06.281578|\n",
      "|1187        |2023-09-18 23:11:59.646|iot_source |240721  |886.51         |24.0              |37.37          |2023-09-18 23:11:59.646|192.168.50.111|26.11438         |172592.0             |20176.0             |125.0             |26.11438         |2023-09-18 23:12:06.281578|\n",
      "|1186        |2023-09-18 23:11:57.098|iot_source |9829498 |886.41         |23.99             |37.36          |2023-09-18 23:11:57.098|192.168.50.111|26.11438         |169568.0             |23200.0             |125.0             |26.11438         |2023-09-18 23:12:06.281578|\n",
      "|1185        |2023-09-18 23:11:54.554|iot_source |59184093|886.49         |23.99             |37.39          |2023-09-18 23:11:54.554|192.168.50.111|26.11438         |166528.0             |26240.0             |125.0             |26.11438         |2023-09-18 23:12:06.281578|\n",
      "|1184        |2023-09-18 23:11:52.014|iot_source |25547047|886.49         |23.99             |37.39          |2023-09-18 23:11:52.014|192.168.50.111|25.64627         |163488.0             |29280.0             |125.0             |25.64627         |2023-09-18 23:12:06.281578|\n",
      "|1183        |2023-09-18 23:11:49.448|iot_source |38886380|886.49         |23.99             |37.37          |2023-09-18 23:11:49.448|192.168.50.111|26.11438         |160448.0             |32320.0             |125.0             |26.11438         |2023-09-18 23:12:06.281578|\n",
      "|1182        |2023-09-18 23:11:46.903|iot_source |57959395|886.39         |23.99             |37.37          |2023-09-18 23:11:46.903|192.168.50.111|26.11438         |157408.0             |35360.0             |125.0             |26.11438         |2023-09-18 23:12:06.281578|\n",
      "|1181        |2023-09-18 23:11:44.351|iot_source |56951016|886.45         |24.0              |37.34          |2023-09-18 23:11:44.351|192.168.50.111|26.11438         |154384.0             |38384.0             |125.0             |26.11438         |2023-09-18 23:12:06.281578|\n",
      "+------------+-----------------------+-----------+--------+---------------+------------------+---------------+-----------------------+--------------+-----------------+---------------------+--------------------+------------------+-----------------+--------------------------+\n",
      "only showing top 10 rows\n",
      "\n"
     ]
    }
   ],
   "source": [
    "from pyspark.sql.functions import lit, col, from_json, regexp_replace, to_timestamp, current_timestamp, to_utc_timestamp\n",
    "\n",
    "\n",
    "stg_df =  (df\n",
    "            .withColumn('data', from_json(col('value'), schema))\n",
    "            .selectExpr(\"offset as kafka_offset\",\n",
    "                        \"timestamp as kafka_datetime\",\n",
    "                        \"topic as kafka_topic\",\n",
    "                        \"data.id as id\",\n",
    "                        \"data.bme280.pressure as bme280_pressure\",\n",
    "                        \"data.bme280.temperature as bme280_temperature\",\n",
    "                        \"data.bme280.humidity as bme280_humidity\",\n",
    "                        \"data.bme280.read_datetime as read_datetime\",\n",
    "                        \"data.picow.local_ip as picow_local_ip\",\n",
    "                        \"data.picow.temperature as picow_temperature\",\n",
    "                        \"data.picow.mem_alloc_bytes as picow_mem_alloc_bytes\",\n",
    "                        \"data.picow.mem_free_bytes as picow_mem_free_bytes\",\n",
    "                        \"data.picow.cpu_freq_mhz as picow_cpu_freq_mhz\",\n",
    "                        \"data.picow.temperature as picow_temperature\",\n",
    "                       )\n",
    "            .drop(\"key\",\"value\"))\n",
    "\n",
    "final_df = (stg_df\n",
    "                .withColumn(\"kafka_datetime\", to_utc_timestamp(col(\"kafka_datetime\"), \"UTC\"))\n",
    "                .withColumn(\"spark_process_datetime\", current_timestamp())\n",
    "                .withColumn(\"bme280_pressure\",regexp_replace(col(\"bme280_pressure\"),\"hPa\",\"\").cast(DoubleType()))\n",
    "                .withColumn(\"bme280_temperature\",regexp_replace(col(\"bme280_temperature\"),\"C\",\"\").cast(DoubleType()))\n",
    "                .withColumn(\"bme280_humidity\",regexp_replace(col(\"bme280_humidity\"),\"%\",\"\").cast(DoubleType()))\n",
    "                .withColumn(\"read_datetime\", to_timestamp(col(\"read_datetime\"), \"yyyy-M-d HH:mm:s\"))\n",
    "                .withColumn(\"read_datetime\", to_utc_timestamp(col(\"kafka_datetime\"), \"UTC\"))\n",
    "                .orderBy(col(\"read_datetime\").desc())\n",
    "           )\n",
    "\n",
    "final_df.printSchema()\n",
    "final_df.show(10,False)\n"
   ]
  },
  {
   "cell_type": "code",
   "execution_count": 18,
   "id": "baa66633-08ec-47a4-aa10-57924c67c77e",
   "metadata": {},
   "outputs": [
    {
     "data": {
      "text/plain": [
       "1295"
      ]
     },
     "execution_count": 18,
     "metadata": {},
     "output_type": "execute_result"
    }
   ],
   "source": [
    "final_df.count()"
   ]
  }
 ],
 "metadata": {
  "kernelspec": {
   "display_name": "Python 3 (ipykernel)",
   "language": "python",
   "name": "python3"
  },
  "language_info": {
   "codemirror_mode": {
    "name": "ipython",
    "version": 3
   },
   "file_extension": ".py",
   "mimetype": "text/x-python",
   "name": "python",
   "nbconvert_exporter": "python",
   "pygments_lexer": "ipython3",
   "version": "3.11.5"
  }
 },
 "nbformat": 4,
 "nbformat_minor": 5
}
