{
 "cells": [
  {
   "cell_type": "code",
   "execution_count": 10,
   "id": "abb10b99-c0bd-4dc5-88df-c5d4359bab85",
   "metadata": {},
   "outputs": [],
   "source": [
    "from pyspark.sql.session import SparkSession\n",
    "import os\n",
    "path = f\"{os.getcwd()}/../\""
   ]
  },
  {
   "cell_type": "code",
   "execution_count": 11,
   "id": "b9385b13-60f6-484b-8ffd-8631e267652a",
   "metadata": {},
   "outputs": [],
   "source": [
    "packages = [\n",
    "    \"org.apache.spark:spark-sql-kafka-0-10_2.12:3.4.1\",\n",
    "    \"org.apache.kafka:kafka-clients:3.2.1\"\n",
    "]\n",
    "\n",
    "jars = [\n",
    "    f\"{path}/jars/spark-sql-kafka-0-10_2.12-3.4.1.jar\",\n",
    "    f\"{path}/jars/kafka-clients-3.5.1.jar\",\n",
    "    f\"{path}/jars/mysql-connector-j-8.0.31.jar\",\n",
    "    f\"{path}/jars/commons-pool2-2.11.1.jar\",\n",
    "    f\"{path}/jars/spark-token-provider-kafka-0-10_2.12-3.4.1.jar\",\n",
    "    f\"{path}/jars/spark-redis-2.4.1-jar-with-dependencies.jar\",\n",
    "]\n",
    "\n",
    "spark = (SparkSession\n",
    "         .Builder()\n",
    "         .appName(name=\"test_kafka\")\n",
    "         .master(\"spark://spark:7077\")\n",
    "         .config(\"spark.jars\", \",\".join(jars))\n",
    "         .config(\"spark.jars.packages\", \",\".join(packages))\n",
    "         #.config(\"spark.redis.host\", \"redis\")\n",
    "         #.config(\"spark.redis.port\", \"6379\")\n",
    "         .getOrCreate())"
   ]
  },
  {
   "cell_type": "code",
   "execution_count": 12,
   "id": "56761c10-bb4f-42dc-9b2c-a7530bb2b1d5",
   "metadata": {},
   "outputs": [
    {
     "data": {
      "text/html": [
       "\n",
       "            <div>\n",
       "                <p><b>SparkSession - in-memory</b></p>\n",
       "                \n",
       "        <div>\n",
       "            <p><b>SparkContext</b></p>\n",
       "\n",
       "            <p><a href=\"http://d96513828c0a:4040\">Spark UI</a></p>\n",
       "\n",
       "            <dl>\n",
       "              <dt>Version</dt>\n",
       "                <dd><code>v3.4.1</code></dd>\n",
       "              <dt>Master</dt>\n",
       "                <dd><code>spark://spark:7077</code></dd>\n",
       "              <dt>AppName</dt>\n",
       "                <dd><code>test_kafka</code></dd>\n",
       "            </dl>\n",
       "        </div>\n",
       "        \n",
       "            </div>\n",
       "        "
      ],
      "text/plain": [
       "<pyspark.sql.session.SparkSession at 0x7f94b233d0>"
      ]
     },
     "execution_count": 12,
     "metadata": {},
     "output_type": "execute_result"
    }
   ],
   "source": [
    "spark"
   ]
  },
  {
   "cell_type": "code",
   "execution_count": 13,
   "id": "c66155ad-3d27-421c-a3b7-18b9b4daa75c",
   "metadata": {},
   "outputs": [
    {
     "data": {
      "text/plain": [
       "2"
      ]
     },
     "execution_count": 13,
     "metadata": {},
     "output_type": "execute_result"
    }
   ],
   "source": [
    "spark.sparkContext.defaultParallelism"
   ]
  },
  {
   "cell_type": "code",
   "execution_count": 14,
   "id": "e453da06-3f1c-4d79-813b-25841a91e3dd",
   "metadata": {},
   "outputs": [],
   "source": [
    "#spark.stop()"
   ]
  },
  {
   "cell_type": "code",
   "execution_count": 15,
   "id": "80cf8a0b-4952-4865-bb31-495cf323748d",
   "metadata": {},
   "outputs": [],
   "source": [
    "from pyspark.sql.types import StructType, StructField, StringType, DoubleType, IntegerType, DateType, TimestampType\n",
    "\n",
    "schema = StructType([\n",
    "    StructField(\"id\", IntegerType()),\n",
    "    StructField(\"bme280\", StructType([\n",
    "        StructField(\"pressure\", StringType()),\n",
    "        StructField(\"temperature\", StringType()),\n",
    "        StructField(\"humidity\", StringType()),\n",
    "        StructField(\"read_datetime\", StringType())\n",
    "    ])),\n",
    "    StructField(\"picow\", StructType([\n",
    "        StructField(\"local_ip\", StringType()),\n",
    "        StructField(\"temperature\", DoubleType()),\n",
    "        StructField(\"free_storage_kb\", DoubleType()),\n",
    "        StructField(\"mem_alloc_bytes\", DoubleType()),\n",
    "        StructField(\"mem_free_bytes\", DoubleType()),\n",
    "        StructField(\"cpu_freq_mhz\", DoubleType())\n",
    "    ]))\n",
    "])"
   ]
  },
  {
   "cell_type": "code",
   "execution_count": 35,
   "id": "3ca30f74-0c5b-4cf7-8837-87aac5633b31",
   "metadata": {},
   "outputs": [],
   "source": [
    "picow_df = (spark \n",
    "              .read\n",
    "              .format(\"kafka\") \n",
    "              .option(\"kafka.bootstrap.servers\", \"kafka:9092\") \n",
    "              .option(\"subscribe\", \"iot_source\")\n",
    "              #.option(\"startingOffsets\", \"earliest\")\n",
    "              #.option(\"endingOffsets\", \"latest\")\n",
    "              .load())\n",
    "\n",
    "df = (picow_df\n",
    "      .where(\"offset > 2\")\n",
    "      .selectExpr(\"CAST(offset AS INTEGER)\",\"CAST(timestamp AS TIMESTAMP)\",\"CAST(key AS STRING)\", \"CAST(value AS STRING)\", \"CAST(topic AS STRING)\"))"
   ]
  },
  {
   "cell_type": "code",
   "execution_count": 37,
   "id": "5b525b7a-bb4f-4427-95a4-309bca201b5e",
   "metadata": {},
   "outputs": [
    {
     "name": "stdout",
     "output_type": "stream",
     "text": [
      "root\n",
      " |-- kafka_offset: integer (nullable = true)\n",
      " |-- kafka_datetime: timestamp (nullable = true)\n",
      " |-- kafka_topic: string (nullable = true)\n",
      " |-- id: integer (nullable = true)\n",
      " |-- bme280_pressure: double (nullable = true)\n",
      " |-- bme280_temperature: double (nullable = true)\n",
      " |-- bme280_humidity: double (nullable = true)\n",
      " |-- read_datetime: timestamp (nullable = true)\n",
      " |-- picow_local_ip: string (nullable = true)\n",
      " |-- picow_temperature: double (nullable = true)\n",
      " |-- picow_mem_alloc_bytes: double (nullable = true)\n",
      " |-- picow_mem_free_bytes: double (nullable = true)\n",
      " |-- picow_cpu_freq_mhz: double (nullable = true)\n",
      " |-- picow_temperature: double (nullable = true)\n",
      " |-- spark_process_datetime: timestamp (nullable = false)\n",
      "\n",
      "+------------+-----------------------+-----------+--------+---------------+------------------+---------------+-----------------------+--------------+-----------------+---------------------+--------------------+------------------+-----------------+--------------------------+\n",
      "|kafka_offset|kafka_datetime         |kafka_topic|id      |bme280_pressure|bme280_temperature|bme280_humidity|read_datetime          |picow_local_ip|picow_temperature|picow_mem_alloc_bytes|picow_mem_free_bytes|picow_cpu_freq_mhz|picow_temperature|spark_process_datetime    |\n",
      "+------------+-----------------------+-----------+--------+---------------+------------------+---------------+-----------------------+--------------+-----------------+---------------------+--------------------+------------------+-----------------+--------------------------+\n",
      "|2006        |2023-09-18 23:49:35.02 |iot_source |45886889|886.69         |23.82             |36.94          |2023-09-18 23:49:35.02 |192.168.50.111|25.64627         |166720.0             |26048.0             |125.0             |25.64627         |2023-09-18 23:49:34.735155|\n",
      "|2005        |2023-09-18 23:49:32.476|iot_source |9854175 |886.69         |23.82             |36.94          |2023-09-18 23:49:32.476|192.168.50.111|25.17813         |163728.0             |29040.0             |125.0             |25.17813         |2023-09-18 23:49:34.735155|\n",
      "|2004        |2023-09-18 23:49:29.931|iot_source |50003645|886.68         |23.81             |36.95          |2023-09-18 23:49:29.931|192.168.50.111|25.17813         |160704.0             |32064.0             |125.0             |25.17813         |2023-09-18 23:49:34.735155|\n",
      "|2003        |2023-09-18 23:49:27.384|iot_source |25813340|886.6          |23.81             |36.96          |2023-09-18 23:49:27.384|192.168.50.111|25.17813         |157680.0             |35088.0             |125.0             |25.17813         |2023-09-18 23:49:34.735155|\n",
      "|2002        |2023-09-18 23:49:24.84 |iot_source |5602199 |886.71         |23.82             |36.96          |2023-09-18 23:49:24.84 |192.168.50.111|25.17813         |154688.0             |38080.0             |125.0             |25.17813         |2023-09-18 23:49:34.735155|\n",
      "|2001        |2023-09-18 23:49:22.284|iot_source |57367549|886.72         |23.83             |36.93          |2023-09-18 23:49:22.284|192.168.50.111|24.70998         |151664.0             |41104.0             |125.0             |24.70998         |2023-09-18 23:49:34.735155|\n",
      "|2000        |2023-09-18 23:49:19.66 |iot_source |58727558|886.7          |23.83             |36.96          |2023-09-18 23:49:19.66 |192.168.50.111|25.64627         |148688.0             |44080.0             |125.0             |25.64627         |2023-09-18 23:49:34.735155|\n",
      "|1999        |2023-09-18 23:49:17.06 |iot_source |46859395|886.69         |23.82             |36.95          |2023-09-18 23:49:17.06 |192.168.50.111|25.17813         |145712.0             |47056.0             |125.0             |25.17813         |2023-09-18 23:49:34.735155|\n",
      "|1998        |2023-09-18 23:49:14.518|iot_source |4626149 |886.7          |23.83             |36.97          |2023-09-18 23:49:14.518|192.168.50.111|25.17813         |142736.0             |50032.0             |125.0             |25.17813         |2023-09-18 23:49:34.735155|\n",
      "|1997        |2023-09-18 23:49:11.971|iot_source |48734817|886.72         |23.82             |36.95          |2023-09-18 23:49:11.971|192.168.50.111|25.17813         |139760.0             |53008.0             |125.0             |25.17813         |2023-09-18 23:49:34.735155|\n",
      "+------------+-----------------------+-----------+--------+---------------+------------------+---------------+-----------------------+--------------+-----------------+---------------------+--------------------+------------------+-----------------+--------------------------+\n",
      "only showing top 10 rows\n",
      "\n"
     ]
    }
   ],
   "source": [
    "from pyspark.sql.functions import lit, col, from_json, regexp_replace, to_timestamp, current_timestamp, to_utc_timestamp\n",
    "\n",
    "\n",
    "stg_df =  (df\n",
    "            .withColumn('data', from_json(col('value'), schema))\n",
    "            .selectExpr(\"offset as kafka_offset\",\n",
    "                        \"timestamp as kafka_datetime\",\n",
    "                        \"topic as kafka_topic\",\n",
    "                        \"data.id as id\",\n",
    "                        \"data.bme280.pressure as bme280_pressure\",\n",
    "                        \"data.bme280.temperature as bme280_temperature\",\n",
    "                        \"data.bme280.humidity as bme280_humidity\",\n",
    "                        \"data.bme280.read_datetime as read_datetime\",\n",
    "                        \"data.picow.local_ip as picow_local_ip\",\n",
    "                        \"data.picow.temperature as picow_temperature\",\n",
    "                        \"data.picow.mem_alloc_bytes as picow_mem_alloc_bytes\",\n",
    "                        \"data.picow.mem_free_bytes as picow_mem_free_bytes\",\n",
    "                        \"data.picow.cpu_freq_mhz as picow_cpu_freq_mhz\",\n",
    "                        \"data.picow.temperature as picow_temperature\",\n",
    "                       )\n",
    "            .drop(\"key\",\"value\"))\n",
    "\n",
    "final_df = (stg_df\n",
    "                .withColumn(\"kafka_datetime\", to_utc_timestamp(col(\"kafka_datetime\"), \"UTC\"))\n",
    "                .withColumn(\"spark_process_datetime\", current_timestamp())\n",
    "                .withColumn(\"bme280_pressure\",regexp_replace(col(\"bme280_pressure\"),\"hPa\",\"\").cast(DoubleType()))\n",
    "                .withColumn(\"bme280_temperature\",regexp_replace(col(\"bme280_temperature\"),\"C\",\"\").cast(DoubleType()))\n",
    "                .withColumn(\"bme280_humidity\",regexp_replace(col(\"bme280_humidity\"),\"%\",\"\").cast(DoubleType()))\n",
    "                .withColumn(\"read_datetime\", to_timestamp(col(\"read_datetime\"), \"yyyy-M-d HH:mm:s\"))\n",
    "                .withColumn(\"read_datetime\", to_utc_timestamp(col(\"kafka_datetime\"), \"UTC\"))\n",
    "                .orderBy(col(\"read_datetime\").desc())\n",
    "           )\n",
    "\n",
    "final_df.printSchema()\n",
    "final_df.show(10,False)\n"
   ]
  },
  {
   "cell_type": "code",
   "execution_count": 38,
   "id": "baa66633-08ec-47a4-aa10-57924c67c77e",
   "metadata": {},
   "outputs": [
    {
     "data": {
      "text/plain": [
       "2005"
      ]
     },
     "execution_count": 38,
     "metadata": {},
     "output_type": "execute_result"
    }
   ],
   "source": [
    "final_df.count()"
   ]
  },
  {
   "cell_type": "code",
   "execution_count": 34,
   "id": "465d8aef-de70-409e-9550-b29729727bf5",
   "metadata": {},
   "outputs": [
    {
     "ename": "Py4JJavaError",
     "evalue": "An error occurred while calling o489.start.\n: org.apache.spark.SparkUnsupportedOperationException: Data source redis does not support streamed writing.\n\tat org.apache.spark.sql.errors.QueryExecutionErrors$.streamedOperatorUnsupportedByDataSourceError(QueryExecutionErrors.scala:724)\n\tat org.apache.spark.sql.execution.datasources.DataSource.createSink(DataSource.scala:326)\n\tat org.apache.spark.sql.streaming.DataStreamWriter.createV1Sink(DataStreamWriter.scala:439)\n\tat org.apache.spark.sql.streaming.DataStreamWriter.startInternal(DataStreamWriter.scala:404)\n\tat org.apache.spark.sql.streaming.DataStreamWriter.start(DataStreamWriter.scala:249)\n\tat java.base/jdk.internal.reflect.NativeMethodAccessorImpl.invoke0(Native Method)\n\tat java.base/jdk.internal.reflect.NativeMethodAccessorImpl.invoke(NativeMethodAccessorImpl.java:77)\n\tat java.base/jdk.internal.reflect.DelegatingMethodAccessorImpl.invoke(DelegatingMethodAccessorImpl.java:43)\n\tat java.base/java.lang.reflect.Method.invoke(Method.java:568)\n\tat py4j.reflection.MethodInvoker.invoke(MethodInvoker.java:244)\n\tat py4j.reflection.ReflectionEngine.invoke(ReflectionEngine.java:374)\n\tat py4j.Gateway.invoke(Gateway.java:282)\n\tat py4j.commands.AbstractCommand.invokeMethod(AbstractCommand.java:132)\n\tat py4j.commands.CallCommand.execute(CallCommand.java:79)\n\tat py4j.ClientServerConnection.waitForCommands(ClientServerConnection.java:182)\n\tat py4j.ClientServerConnection.run(ClientServerConnection.java:106)\n\tat java.base/java.lang.Thread.run(Thread.java:833)\n",
     "output_type": "error",
     "traceback": [
      "\u001b[0;31m---------------------------------------------------------------------------\u001b[0m",
      "\u001b[0;31mPy4JJavaError\u001b[0m                             Traceback (most recent call last)",
      "Cell \u001b[0;32mIn[34], line 3\u001b[0m\n\u001b[1;32m      1\u001b[0m spark\u001b[38;5;241m.\u001b[39mconf\u001b[38;5;241m.\u001b[39mset(\u001b[38;5;124m\"\u001b[39m\u001b[38;5;124mspark.redis.host\u001b[39m\u001b[38;5;124m\"\u001b[39m, \u001b[38;5;124m\"\u001b[39m\u001b[38;5;124mredis\u001b[39m\u001b[38;5;124m\"\u001b[39m)\n\u001b[1;32m      2\u001b[0m spark\u001b[38;5;241m.\u001b[39mconf\u001b[38;5;241m.\u001b[39mset(\u001b[38;5;124m\"\u001b[39m\u001b[38;5;124mspark.redis.port\u001b[39m\u001b[38;5;124m\"\u001b[39m, \u001b[38;5;124m\"\u001b[39m\u001b[38;5;124m6379\u001b[39m\u001b[38;5;124m\"\u001b[39m)\n\u001b[0;32m----> 3\u001b[0m \u001b[43mfinal_df\u001b[49m\u001b[38;5;241;43m.\u001b[39;49m\u001b[43mwriteStream\u001b[49m\u001b[38;5;241;43m.\u001b[39;49m\u001b[43mformat\u001b[49m\u001b[43m(\u001b[49m\u001b[38;5;124;43m\"\u001b[39;49m\u001b[38;5;124;43mredis\u001b[39;49m\u001b[38;5;124;43m\"\u001b[39;49m\u001b[43m)\u001b[49m\u001b[38;5;241;43m.\u001b[39;49m\u001b[43moption\u001b[49m\u001b[43m(\u001b[49m\u001b[38;5;124;43m\"\u001b[39;49m\u001b[38;5;124;43mtable\u001b[39;49m\u001b[38;5;124;43m\"\u001b[39;49m\u001b[43m,\u001b[49m\u001b[43m \u001b[49m\u001b[38;5;124;43m\"\u001b[39;49m\u001b[38;5;124;43miot_data\u001b[39;49m\u001b[38;5;124;43m\"\u001b[39;49m\u001b[43m)\u001b[49m\u001b[38;5;241;43m.\u001b[39;49m\u001b[43moption\u001b[49m\u001b[43m(\u001b[49m\u001b[38;5;124;43m\"\u001b[39;49m\u001b[38;5;124;43mcreate_table\u001b[39;49m\u001b[38;5;124;43m\"\u001b[39;49m\u001b[43m,\u001b[49m\u001b[43m \u001b[49m\u001b[38;5;124;43m\"\u001b[39;49m\u001b[38;5;124;43mtrue\u001b[39;49m\u001b[38;5;124;43m\"\u001b[39;49m\u001b[43m)\u001b[49m\u001b[38;5;241;43m.\u001b[39;49m\u001b[43moption\u001b[49m\u001b[43m(\u001b[49m\u001b[38;5;124;43m\"\u001b[39;49m\u001b[38;5;124;43mkey.column\u001b[39;49m\u001b[38;5;124;43m\"\u001b[39;49m\u001b[43m,\u001b[49m\u001b[43m \u001b[49m\u001b[38;5;124;43m\"\u001b[39;49m\u001b[38;5;124;43mid\u001b[39;49m\u001b[38;5;124;43m\"\u001b[39;49m\u001b[43m)\u001b[49m\u001b[38;5;241;43m.\u001b[39;49m\u001b[43mstart\u001b[49m\u001b[43m(\u001b[49m\u001b[43m)\u001b[49m\n",
      "File \u001b[0;32m/usr/local/spark/python/pyspark/sql/streaming/readwriter.py:1385\u001b[0m, in \u001b[0;36mDataStreamWriter.start\u001b[0;34m(self, path, format, outputMode, partitionBy, queryName, **options)\u001b[0m\n\u001b[1;32m   1383\u001b[0m     \u001b[38;5;28mself\u001b[39m\u001b[38;5;241m.\u001b[39mqueryName(queryName)\n\u001b[1;32m   1384\u001b[0m \u001b[38;5;28;01mif\u001b[39;00m path \u001b[38;5;129;01mis\u001b[39;00m \u001b[38;5;28;01mNone\u001b[39;00m:\n\u001b[0;32m-> 1385\u001b[0m     \u001b[38;5;28;01mreturn\u001b[39;00m \u001b[38;5;28mself\u001b[39m\u001b[38;5;241m.\u001b[39m_sq(\u001b[38;5;28;43mself\u001b[39;49m\u001b[38;5;241;43m.\u001b[39;49m\u001b[43m_jwrite\u001b[49m\u001b[38;5;241;43m.\u001b[39;49m\u001b[43mstart\u001b[49m\u001b[43m(\u001b[49m\u001b[43m)\u001b[49m)\n\u001b[1;32m   1386\u001b[0m \u001b[38;5;28;01melse\u001b[39;00m:\n\u001b[1;32m   1387\u001b[0m     \u001b[38;5;28;01mreturn\u001b[39;00m \u001b[38;5;28mself\u001b[39m\u001b[38;5;241m.\u001b[39m_sq(\u001b[38;5;28mself\u001b[39m\u001b[38;5;241m.\u001b[39m_jwrite\u001b[38;5;241m.\u001b[39mstart(path))\n",
      "File \u001b[0;32m/usr/local/spark/python/lib/py4j-0.10.9.7-src.zip/py4j/java_gateway.py:1322\u001b[0m, in \u001b[0;36mJavaMember.__call__\u001b[0;34m(self, *args)\u001b[0m\n\u001b[1;32m   1316\u001b[0m command \u001b[38;5;241m=\u001b[39m proto\u001b[38;5;241m.\u001b[39mCALL_COMMAND_NAME \u001b[38;5;241m+\u001b[39m\\\n\u001b[1;32m   1317\u001b[0m     \u001b[38;5;28mself\u001b[39m\u001b[38;5;241m.\u001b[39mcommand_header \u001b[38;5;241m+\u001b[39m\\\n\u001b[1;32m   1318\u001b[0m     args_command \u001b[38;5;241m+\u001b[39m\\\n\u001b[1;32m   1319\u001b[0m     proto\u001b[38;5;241m.\u001b[39mEND_COMMAND_PART\n\u001b[1;32m   1321\u001b[0m answer \u001b[38;5;241m=\u001b[39m \u001b[38;5;28mself\u001b[39m\u001b[38;5;241m.\u001b[39mgateway_client\u001b[38;5;241m.\u001b[39msend_command(command)\n\u001b[0;32m-> 1322\u001b[0m return_value \u001b[38;5;241m=\u001b[39m \u001b[43mget_return_value\u001b[49m\u001b[43m(\u001b[49m\n\u001b[1;32m   1323\u001b[0m \u001b[43m    \u001b[49m\u001b[43manswer\u001b[49m\u001b[43m,\u001b[49m\u001b[43m \u001b[49m\u001b[38;5;28;43mself\u001b[39;49m\u001b[38;5;241;43m.\u001b[39;49m\u001b[43mgateway_client\u001b[49m\u001b[43m,\u001b[49m\u001b[43m \u001b[49m\u001b[38;5;28;43mself\u001b[39;49m\u001b[38;5;241;43m.\u001b[39;49m\u001b[43mtarget_id\u001b[49m\u001b[43m,\u001b[49m\u001b[43m \u001b[49m\u001b[38;5;28;43mself\u001b[39;49m\u001b[38;5;241;43m.\u001b[39;49m\u001b[43mname\u001b[49m\u001b[43m)\u001b[49m\n\u001b[1;32m   1325\u001b[0m \u001b[38;5;28;01mfor\u001b[39;00m temp_arg \u001b[38;5;129;01min\u001b[39;00m temp_args:\n\u001b[1;32m   1326\u001b[0m     \u001b[38;5;28;01mif\u001b[39;00m \u001b[38;5;28mhasattr\u001b[39m(temp_arg, \u001b[38;5;124m\"\u001b[39m\u001b[38;5;124m_detach\u001b[39m\u001b[38;5;124m\"\u001b[39m):\n",
      "File \u001b[0;32m/usr/local/spark/python/pyspark/errors/exceptions/captured.py:169\u001b[0m, in \u001b[0;36mcapture_sql_exception.<locals>.deco\u001b[0;34m(*a, **kw)\u001b[0m\n\u001b[1;32m    167\u001b[0m \u001b[38;5;28;01mdef\u001b[39;00m \u001b[38;5;21mdeco\u001b[39m(\u001b[38;5;241m*\u001b[39ma: Any, \u001b[38;5;241m*\u001b[39m\u001b[38;5;241m*\u001b[39mkw: Any) \u001b[38;5;241m-\u001b[39m\u001b[38;5;241m>\u001b[39m Any:\n\u001b[1;32m    168\u001b[0m     \u001b[38;5;28;01mtry\u001b[39;00m:\n\u001b[0;32m--> 169\u001b[0m         \u001b[38;5;28;01mreturn\u001b[39;00m \u001b[43mf\u001b[49m\u001b[43m(\u001b[49m\u001b[38;5;241;43m*\u001b[39;49m\u001b[43ma\u001b[49m\u001b[43m,\u001b[49m\u001b[43m \u001b[49m\u001b[38;5;241;43m*\u001b[39;49m\u001b[38;5;241;43m*\u001b[39;49m\u001b[43mkw\u001b[49m\u001b[43m)\u001b[49m\n\u001b[1;32m    170\u001b[0m     \u001b[38;5;28;01mexcept\u001b[39;00m Py4JJavaError \u001b[38;5;28;01mas\u001b[39;00m e:\n\u001b[1;32m    171\u001b[0m         converted \u001b[38;5;241m=\u001b[39m convert_exception(e\u001b[38;5;241m.\u001b[39mjava_exception)\n",
      "File \u001b[0;32m/usr/local/spark/python/lib/py4j-0.10.9.7-src.zip/py4j/protocol.py:326\u001b[0m, in \u001b[0;36mget_return_value\u001b[0;34m(answer, gateway_client, target_id, name)\u001b[0m\n\u001b[1;32m    324\u001b[0m value \u001b[38;5;241m=\u001b[39m OUTPUT_CONVERTER[\u001b[38;5;28mtype\u001b[39m](answer[\u001b[38;5;241m2\u001b[39m:], gateway_client)\n\u001b[1;32m    325\u001b[0m \u001b[38;5;28;01mif\u001b[39;00m answer[\u001b[38;5;241m1\u001b[39m] \u001b[38;5;241m==\u001b[39m REFERENCE_TYPE:\n\u001b[0;32m--> 326\u001b[0m     \u001b[38;5;28;01mraise\u001b[39;00m Py4JJavaError(\n\u001b[1;32m    327\u001b[0m         \u001b[38;5;124m\"\u001b[39m\u001b[38;5;124mAn error occurred while calling \u001b[39m\u001b[38;5;132;01m{0}\u001b[39;00m\u001b[38;5;132;01m{1}\u001b[39;00m\u001b[38;5;132;01m{2}\u001b[39;00m\u001b[38;5;124m.\u001b[39m\u001b[38;5;130;01m\\n\u001b[39;00m\u001b[38;5;124m\"\u001b[39m\u001b[38;5;241m.\u001b[39m\n\u001b[1;32m    328\u001b[0m         \u001b[38;5;28mformat\u001b[39m(target_id, \u001b[38;5;124m\"\u001b[39m\u001b[38;5;124m.\u001b[39m\u001b[38;5;124m\"\u001b[39m, name), value)\n\u001b[1;32m    329\u001b[0m \u001b[38;5;28;01melse\u001b[39;00m:\n\u001b[1;32m    330\u001b[0m     \u001b[38;5;28;01mraise\u001b[39;00m Py4JError(\n\u001b[1;32m    331\u001b[0m         \u001b[38;5;124m\"\u001b[39m\u001b[38;5;124mAn error occurred while calling \u001b[39m\u001b[38;5;132;01m{0}\u001b[39;00m\u001b[38;5;132;01m{1}\u001b[39;00m\u001b[38;5;132;01m{2}\u001b[39;00m\u001b[38;5;124m. Trace:\u001b[39m\u001b[38;5;130;01m\\n\u001b[39;00m\u001b[38;5;132;01m{3}\u001b[39;00m\u001b[38;5;130;01m\\n\u001b[39;00m\u001b[38;5;124m\"\u001b[39m\u001b[38;5;241m.\u001b[39m\n\u001b[1;32m    332\u001b[0m         \u001b[38;5;28mformat\u001b[39m(target_id, \u001b[38;5;124m\"\u001b[39m\u001b[38;5;124m.\u001b[39m\u001b[38;5;124m\"\u001b[39m, name, value))\n",
      "\u001b[0;31mPy4JJavaError\u001b[0m: An error occurred while calling o489.start.\n: org.apache.spark.SparkUnsupportedOperationException: Data source redis does not support streamed writing.\n\tat org.apache.spark.sql.errors.QueryExecutionErrors$.streamedOperatorUnsupportedByDataSourceError(QueryExecutionErrors.scala:724)\n\tat org.apache.spark.sql.execution.datasources.DataSource.createSink(DataSource.scala:326)\n\tat org.apache.spark.sql.streaming.DataStreamWriter.createV1Sink(DataStreamWriter.scala:439)\n\tat org.apache.spark.sql.streaming.DataStreamWriter.startInternal(DataStreamWriter.scala:404)\n\tat org.apache.spark.sql.streaming.DataStreamWriter.start(DataStreamWriter.scala:249)\n\tat java.base/jdk.internal.reflect.NativeMethodAccessorImpl.invoke0(Native Method)\n\tat java.base/jdk.internal.reflect.NativeMethodAccessorImpl.invoke(NativeMethodAccessorImpl.java:77)\n\tat java.base/jdk.internal.reflect.DelegatingMethodAccessorImpl.invoke(DelegatingMethodAccessorImpl.java:43)\n\tat java.base/java.lang.reflect.Method.invoke(Method.java:568)\n\tat py4j.reflection.MethodInvoker.invoke(MethodInvoker.java:244)\n\tat py4j.reflection.ReflectionEngine.invoke(ReflectionEngine.java:374)\n\tat py4j.Gateway.invoke(Gateway.java:282)\n\tat py4j.commands.AbstractCommand.invokeMethod(AbstractCommand.java:132)\n\tat py4j.commands.CallCommand.execute(CallCommand.java:79)\n\tat py4j.ClientServerConnection.waitForCommands(ClientServerConnection.java:182)\n\tat py4j.ClientServerConnection.run(ClientServerConnection.java:106)\n\tat java.base/java.lang.Thread.run(Thread.java:833)\n"
     ]
    }
   ],
   "source": [
    "spark.conf.set(\"spark.redis.host\", \"redis\")\n",
    "spark.conf.set(\"spark.redis.port\", \"6379\")\n",
    "final_df.write.format(\"redis\").mode(\"append\").option(\"table\", \"iot_data\").option(\"create_table\", \"true\").option(\"key.column\", \"id\").save()"
   ]
  }
 ],
 "metadata": {
  "kernelspec": {
   "display_name": "Python 3 (ipykernel)",
   "language": "python",
   "name": "python3"
  },
  "language_info": {
   "codemirror_mode": {
    "name": "ipython",
    "version": 3
   },
   "file_extension": ".py",
   "mimetype": "text/x-python",
   "name": "python",
   "nbconvert_exporter": "python",
   "pygments_lexer": "ipython3",
   "version": "3.11.5"
  }
 },
 "nbformat": 4,
 "nbformat_minor": 5
}
