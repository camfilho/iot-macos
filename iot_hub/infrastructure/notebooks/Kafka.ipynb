{
 "cells": [
  {
   "cell_type": "code",
   "execution_count": 1,
   "id": "abb10b99-c0bd-4dc5-88df-c5d4359bab85",
   "metadata": {},
   "outputs": [],
   "source": [
    "from pyspark.sql.session import SparkSession\n",
    "import os\n",
    "path = f\"{os.getcwd()}/../\""
   ]
  },
  {
   "cell_type": "code",
   "execution_count": 2,
   "id": "b9385b13-60f6-484b-8ffd-8631e267652a",
   "metadata": {},
   "outputs": [],
   "source": [
    "packages = [\n",
    "    \"org.apache.spark:spark-sql-kafka-0-10_2.12:3.4.1\",\n",
    "    \"org.apache.kafka:kafka-clients:3.2.1\"\n",
    "]\n",
    "\n",
    "jars = [\n",
    "    f\"{path}/jars/spark-sql-kafka-0-10_2.12-3.4.1.jar\",\n",
    "    f\"{path}/jars/kafka-clients-3.5.1.jar\",\n",
    "    f\"{path}/jars/mysql-connector-j-8.0.31.jar\",\n",
    "    f\"{path}/jars/commons-pool2-2.11.1.jar\",\n",
    "    f\"{path}/jars/spark-token-provider-kafka-0-10_2.12-3.4.1.jar\"\n",
    "]\n",
    "\n",
    "spark = (SparkSession\n",
    "         .Builder()\n",
    "         .appName(name=\"test_kafka\")\n",
    "         .master(\"spark://spark:7077\")\n",
    "         .config(\"spark.jars\", \",\".join(jars))\n",
    "         .config(\"spark.jars.packages\", \",\".join(packages))\\\n",
    "         .getOrCreate())"
   ]
  },
  {
   "cell_type": "code",
   "execution_count": 3,
   "id": "56761c10-bb4f-42dc-9b2c-a7530bb2b1d5",
   "metadata": {},
   "outputs": [
    {
     "data": {
      "text/html": [
       "\n",
       "            <div>\n",
       "                <p><b>SparkSession - in-memory</b></p>\n",
       "                \n",
       "        <div>\n",
       "            <p><b>SparkContext</b></p>\n",
       "\n",
       "            <p><a href=\"http://3bf303f91482:4040\">Spark UI</a></p>\n",
       "\n",
       "            <dl>\n",
       "              <dt>Version</dt>\n",
       "                <dd><code>v3.4.1</code></dd>\n",
       "              <dt>Master</dt>\n",
       "                <dd><code>spark://spark:7077</code></dd>\n",
       "              <dt>AppName</dt>\n",
       "                <dd><code>test_kafka</code></dd>\n",
       "            </dl>\n",
       "        </div>\n",
       "        \n",
       "            </div>\n",
       "        "
      ],
      "text/plain": [
       "<pyspark.sql.session.SparkSession at 0x7f2013712f50>"
      ]
     },
     "execution_count": 3,
     "metadata": {},
     "output_type": "execute_result"
    }
   ],
   "source": [
    "spark"
   ]
  },
  {
   "cell_type": "code",
   "execution_count": 4,
   "id": "c66155ad-3d27-421c-a3b7-18b9b4daa75c",
   "metadata": {},
   "outputs": [
    {
     "data": {
      "text/plain": [
       "2"
      ]
     },
     "execution_count": 4,
     "metadata": {},
     "output_type": "execute_result"
    }
   ],
   "source": [
    "spark.sparkContext.defaultParallelism"
   ]
  },
  {
   "cell_type": "code",
   "execution_count": 35,
   "id": "e453da06-3f1c-4d79-813b-25841a91e3dd",
   "metadata": {},
   "outputs": [],
   "source": [
    "#spark.stop()"
   ]
  },
  {
   "cell_type": "code",
   "execution_count": 5,
   "id": "80cf8a0b-4952-4865-bb31-495cf323748d",
   "metadata": {},
   "outputs": [],
   "source": [
    "from pyspark.sql.types import StructType, StructField, StringType, DoubleType, IntegerType, DateType, TimestampType\n",
    "\n",
    "schema = StructType([\n",
    "    StructField(\"bme280\", StructType([\n",
    "        StructField(\"pressure\", StringType()),\n",
    "        StructField(\"temperature\", StringType()),\n",
    "        StructField(\"humidity\", StringType()),\n",
    "        StructField(\"read_datetime\", StringType())\n",
    "    ])),\n",
    "    StructField(\"picow\", StructType([\n",
    "        StructField(\"local_ip\", StringType()),\n",
    "        StructField(\"temperature\", DoubleType())\n",
    "    ]))\n",
    "])"
   ]
  },
  {
   "cell_type": "code",
   "execution_count": 65,
   "id": "3ca30f74-0c5b-4cf7-8837-87aac5633b31",
   "metadata": {},
   "outputs": [],
   "source": [
    "picow_df = (spark \n",
    "              .read\n",
    "              .format(\"kafka\") \n",
    "              .option(\"kafka.bootstrap.servers\", \"kafka:9092\") \n",
    "              .option(\"subscribe\", \"iot_source\")\n",
    "              #.option(\"startingOffsets\", \"earliest\")\n",
    "              #.option(\"endingOffsets\", \"latest\")\n",
    "              .load())\n",
    "\n",
    "df = (picow_df\n",
    "      .where(\"offset > 2\")\n",
    "      .selectExpr(\"CAST(offset AS INTEGER)\",\"CAST(timestamp AS TIMESTAMP)\",\"CAST(key AS STRING)\", \"CAST(value AS STRING)\", \"CAST(topic AS STRING)\"))"
   ]
  },
  {
   "cell_type": "code",
   "execution_count": 87,
   "id": "5b525b7a-bb4f-4427-95a4-309bca201b5e",
   "metadata": {},
   "outputs": [
    {
     "name": "stdout",
     "output_type": "stream",
     "text": [
      "root\n",
      " |-- kafka_offset: integer (nullable = true)\n",
      " |-- kafka_datetime: timestamp (nullable = true)\n",
      " |-- kafka_topic: string (nullable = true)\n",
      " |-- bme280_pressure: double (nullable = true)\n",
      " |-- bme280_temperature: double (nullable = true)\n",
      " |-- bme280_humidity: double (nullable = true)\n",
      " |-- read_datetime: timestamp (nullable = true)\n",
      " |-- picow_local_ip: string (nullable = true)\n",
      " |-- picow_temperature: double (nullable = true)\n",
      " |-- spark_process_datetime: timestamp (nullable = false)\n",
      "\n",
      "+------------+-----------------------+-----------+---------------+------------------+---------------+-----------------------+--------------+-----------------+--------------------------+\n",
      "|kafka_offset|kafka_datetime         |kafka_topic|bme280_pressure|bme280_temperature|bme280_humidity|read_datetime          |picow_local_ip|picow_temperature|spark_process_datetime    |\n",
      "+------------+-----------------------+-----------+---------------+------------------+---------------+-----------------------+--------------+-----------------+--------------------------+\n",
      "|819         |2023-09-08 17:11:52.187|iot_source |897.37         |20.87             |47.45          |2023-09-08 17:11:52.187|192.168.1.74  |22.83744         |2023-09-08 17:11:52.181196|\n",
      "|818         |2023-09-08 17:11:49.588|iot_source |897.46         |20.87             |47.44          |2023-09-08 17:11:49.588|192.168.1.74  |22.83744         |2023-09-08 17:11:52.181196|\n",
      "|817         |2023-09-08 17:11:46.98 |iot_source |897.39         |20.86             |47.44          |2023-09-08 17:11:46.98 |192.168.1.74  |23.30559         |2023-09-08 17:11:52.181196|\n",
      "|816         |2023-09-08 17:11:44.366|iot_source |897.41         |20.86             |47.44          |2023-09-08 17:11:44.366|192.168.1.74  |23.30559         |2023-09-08 17:11:52.181196|\n",
      "|815         |2023-09-08 17:11:41.747|iot_source |897.42         |20.88             |47.44          |2023-09-08 17:11:41.747|192.168.1.74  |23.30559         |2023-09-08 17:11:52.181196|\n",
      "|814         |2023-09-08 17:11:39.145|iot_source |897.4          |20.87             |47.43          |2023-09-08 17:11:39.145|192.168.1.74  |22.83744         |2023-09-08 17:11:52.181196|\n",
      "|813         |2023-09-08 17:11:36.532|iot_source |897.37         |20.87             |47.43          |2023-09-08 17:11:36.532|192.168.1.74  |23.30559         |2023-09-08 17:11:52.181196|\n",
      "|812         |2023-09-08 17:11:33.925|iot_source |897.35         |20.87             |47.44          |2023-09-08 17:11:33.925|192.168.1.74  |23.30559         |2023-09-08 17:11:52.181196|\n",
      "|811         |2023-09-08 17:11:31.158|iot_source |897.4          |20.87             |47.42          |2023-09-08 17:11:31.158|192.168.1.74  |23.30559         |2023-09-08 17:11:52.181196|\n",
      "|810         |2023-09-08 17:11:28.443|iot_source |897.41         |20.87             |47.44          |2023-09-08 17:11:28.443|192.168.1.74  |23.30559         |2023-09-08 17:11:52.181196|\n",
      "+------------+-----------------------+-----------+---------------+------------------+---------------+-----------------------+--------------+-----------------+--------------------------+\n",
      "only showing top 10 rows\n",
      "\n"
     ]
    }
   ],
   "source": [
    "from pyspark.sql.functions import lit, col, from_json, regexp_replace, to_timestamp, current_timestamp, to_utc_timestamp\n",
    "\n",
    "\n",
    "stg_df =  (df\n",
    "            .withColumn('data', from_json(col('value'), schema))\n",
    "            .selectExpr(\"offset as kafka_offset\",\n",
    "                        \"timestamp as kafka_datetime\",\n",
    "                        \"topic as kafka_topic\",\n",
    "                        \"data.bme280.pressure as bme280_pressure\",\n",
    "                        \"data.bme280.temperature as bme280_temperature\",\n",
    "                        \"data.bme280.humidity as bme280_humidity\",\n",
    "                        \"data.bme280.read_datetime as read_datetime\",\n",
    "                        \"data.picow.local_ip as picow_local_ip\",\n",
    "                        \"data.picow.temperature as picow_temperature\")\n",
    "            .drop(\"key\",\"value\"))\n",
    "\n",
    "final_df = (stg_df\n",
    "                .withColumn(\"kafka_datetime\", to_utc_timestamp(col(\"kafka_datetime\"), \"UTC\"))\n",
    "                .withColumn(\"spark_process_datetime\", current_timestamp())\n",
    "                .withColumn(\"bme280_pressure\",regexp_replace(col(\"bme280_pressure\"),\"hPa\",\"\").cast(DoubleType()))\n",
    "                .withColumn(\"bme280_temperature\",regexp_replace(col(\"bme280_temperature\"),\"C\",\"\").cast(DoubleType()))\n",
    "                .withColumn(\"bme280_humidity\",regexp_replace(col(\"bme280_humidity\"),\"%\",\"\").cast(DoubleType()))\n",
    "                .withColumn(\"read_datetime\", to_timestamp(col(\"read_datetime\"), \"yyyy-M-d HH:mm:s\"))\n",
    "                .withColumn(\"read_datetime\", to_utc_timestamp(col(\"kafka_datetime\"), \"UTC\"))\n",
    "                .orderBy(col(\"read_datetime\").desc())\n",
    "           )\n",
    "\n",
    "final_df.printSchema()\n",
    "final_df.show(10,False)\n"
   ]
  },
  {
   "cell_type": "code",
   "execution_count": 88,
   "id": "baa66633-08ec-47a4-aa10-57924c67c77e",
   "metadata": {},
   "outputs": [
    {
     "data": {
      "text/plain": [
       "821"
      ]
     },
     "execution_count": 88,
     "metadata": {},
     "output_type": "execute_result"
    }
   ],
   "source": [
    "final_df.count()"
   ]
  }
 ],
 "metadata": {
  "kernelspec": {
   "display_name": "Python 3 (ipykernel)",
   "language": "python",
   "name": "python3"
  },
  "language_info": {
   "codemirror_mode": {
    "name": "ipython",
    "version": 3
   },
   "file_extension": ".py",
   "mimetype": "text/x-python",
   "name": "python",
   "nbconvert_exporter": "python",
   "pygments_lexer": "ipython3",
   "version": "3.11.5"
  }
 },
 "nbformat": 4,
 "nbformat_minor": 5
}
