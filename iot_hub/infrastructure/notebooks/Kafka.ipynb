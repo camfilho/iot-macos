{
 "cells": [
  {
   "cell_type": "code",
   "execution_count": 1,
   "id": "abb10b99-c0bd-4dc5-88df-c5d4359bab85",
   "metadata": {},
   "outputs": [],
   "source": [
    "from pyspark.sql.session import SparkSession\n",
    "import os\n",
    "path = f\"{os.getcwd()}/../\""
   ]
  },
  {
   "cell_type": "code",
   "execution_count": 2,
   "id": "b9385b13-60f6-484b-8ffd-8631e267652a",
   "metadata": {},
   "outputs": [],
   "source": [
    "packages = [\n",
    "    \"org.apache.spark:spark-sql-kafka-0-10_2.12:3.4.1\",\n",
    "    \"org.apache.kafka:kafka-clients:3.2.1\"\n",
    "]\n",
    "\n",
    "jars = [\n",
    "    f\"{path}/jars/spark-sql-kafka-0-10_2.12-3.4.1.jar\",\n",
    "    f\"{path}/jars/kafka-clients-3.5.1.jar\",\n",
    "    f\"{path}/jars/mysql-connector-j-8.0.31.jar\",\n",
    "    f\"{path}/jars/commons-pool2-2.11.1.jar\",\n",
    "    f\"{path}/jars/spark-token-provider-kafka-0-10_2.12-3.4.1.jar\",\n",
    "    f\"{path}/jars/spark-redis-2.4.1-jar-with-dependencies.jar\",\n",
    "]\n",
    "\n",
    "spark = (SparkSession\n",
    "         .Builder()\n",
    "         .appName(name=\"test_kafka\")\n",
    "         .master(\"spark://spark:7077\")\n",
    "         .config(\"spark.jars\", \",\".join(jars))\n",
    "         .config(\"spark.jars.packages\", \",\".join(packages))\n",
    "         #.config(\"spark.redis.host\", \"redis\")\n",
    "         #.config(\"spark.redis.port\", \"6379\")\n",
    "         .getOrCreate())"
   ]
  },
  {
   "cell_type": "code",
   "execution_count": 3,
   "id": "56761c10-bb4f-42dc-9b2c-a7530bb2b1d5",
   "metadata": {},
   "outputs": [
    {
     "data": {
      "text/html": [
       "\n",
       "            <div>\n",
       "                <p><b>SparkSession - in-memory</b></p>\n",
       "                \n",
       "        <div>\n",
       "            <p><b>SparkContext</b></p>\n",
       "\n",
       "            <p><a href=\"http://05225cb9abc8:4040\">Spark UI</a></p>\n",
       "\n",
       "            <dl>\n",
       "              <dt>Version</dt>\n",
       "                <dd><code>v3.4.1</code></dd>\n",
       "              <dt>Master</dt>\n",
       "                <dd><code>spark://spark:7077</code></dd>\n",
       "              <dt>AppName</dt>\n",
       "                <dd><code>test_kafka</code></dd>\n",
       "            </dl>\n",
       "        </div>\n",
       "        \n",
       "            </div>\n",
       "        "
      ],
      "text/plain": [
       "<pyspark.sql.session.SparkSession at 0x7f74383cd0>"
      ]
     },
     "execution_count": 3,
     "metadata": {},
     "output_type": "execute_result"
    }
   ],
   "source": [
    "spark"
   ]
  },
  {
   "cell_type": "code",
   "execution_count": 4,
   "id": "c66155ad-3d27-421c-a3b7-18b9b4daa75c",
   "metadata": {},
   "outputs": [
    {
     "data": {
      "text/plain": [
       "2"
      ]
     },
     "execution_count": 4,
     "metadata": {},
     "output_type": "execute_result"
    }
   ],
   "source": [
    "spark.sparkContext.defaultParallelism"
   ]
  },
  {
   "cell_type": "code",
   "execution_count": 5,
   "id": "e453da06-3f1c-4d79-813b-25841a91e3dd",
   "metadata": {},
   "outputs": [],
   "source": [
    "#spark.stop()"
   ]
  },
  {
   "cell_type": "code",
   "execution_count": 5,
   "id": "80cf8a0b-4952-4865-bb31-495cf323748d",
   "metadata": {},
   "outputs": [],
   "source": [
    "from pyspark.sql.types import StructType, StructField, StringType, DoubleType, IntegerType, DateType, TimestampType\n",
    "\n",
    "schema = StructType([\n",
    "    StructField(\"id\", IntegerType()),\n",
    "    StructField(\"bme280\", StructType([\n",
    "        StructField(\"pressure\", StringType()),\n",
    "        StructField(\"temperature\", StringType()),\n",
    "        StructField(\"humidity\", StringType()),\n",
    "        StructField(\"read_datetime\", StringType())\n",
    "    ])),\n",
    "    StructField(\"picow\", StructType([\n",
    "        StructField(\"local_ip\", StringType()),\n",
    "        StructField(\"temperature\", DoubleType()),\n",
    "        StructField(\"free_storage_kb\", DoubleType()),\n",
    "        StructField(\"mem_alloc_bytes\", DoubleType()),\n",
    "        StructField(\"mem_free_bytes\", DoubleType()),\n",
    "        StructField(\"cpu_freq_mhz\", DoubleType())\n",
    "    ]))\n",
    "])"
   ]
  },
  {
   "cell_type": "code",
   "execution_count": 6,
   "id": "3ca30f74-0c5b-4cf7-8837-87aac5633b31",
   "metadata": {},
   "outputs": [],
   "source": [
    "picow_df = (spark \n",
    "              .read\n",
    "              .format(\"kafka\") \n",
    "              .option(\"kafka.bootstrap.servers\", \"kafka:9092\") \n",
    "              .option(\"subscribe\", \"iot_source\")\n",
    "              #.option(\"startingOffsets\", \"earliest\")\n",
    "              #.option(\"endingOffsets\", \"latest\")\n",
    "              .load())\n",
    "\n",
    "df = (picow_df\n",
    "      .where(\"offset > 2\")\n",
    "      .selectExpr(\"CAST(offset AS INTEGER)\",\"CAST(timestamp AS TIMESTAMP)\",\"CAST(key AS STRING)\", \"CAST(value AS STRING)\", \"CAST(topic AS STRING)\"))"
   ]
  },
  {
   "cell_type": "code",
   "execution_count": 79,
   "id": "5b525b7a-bb4f-4427-95a4-309bca201b5e",
   "metadata": {},
   "outputs": [],
   "source": [
    "from pyspark.sql.functions import lit, col, from_json, regexp_replace, to_timestamp, current_timestamp, to_utc_timestamp\n",
    "\n",
    "\n",
    "stg_df =  (df\n",
    "            .withColumn('data', from_json(col('value'), schema))\n",
    "            .selectExpr(\"offset as kafka_offset\",\n",
    "                        \"timestamp as kafka_datetime\",\n",
    "                        \"topic as kafka_topic\",\n",
    "                        \"data.id as id\",\n",
    "                        \"data.bme280.pressure as bme280_pressure\",\n",
    "                        \"data.bme280.temperature as bme280_temperature\",\n",
    "                        \"data.bme280.humidity as bme280_humidity\",\n",
    "                        \"data.bme280.read_datetime as read_datetime\",\n",
    "                        \"data.picow.local_ip as picow_local_ip\",\n",
    "                        \"data.picow.temperature as picow_temperature\",\n",
    "                        \"data.picow.mem_alloc_bytes as picow_mem_alloc_bytes\",\n",
    "                        \"data.picow.mem_free_bytes as picow_mem_free_bytes\",\n",
    "                        \"data.picow.cpu_freq_mhz as picow_cpu_freq_mhz\",\n",
    "                       )\n",
    "            .drop(\"key\",\"value\"))\n",
    "\n",
    "final_df = (stg_df\n",
    "                .withColumn(\"kafka_datetime\", to_utc_timestamp(col(\"kafka_datetime\"), \"UTC\"))\n",
    "                .withColumn(\"spark_process_datetime\", current_timestamp())\n",
    "                .withColumn(\"bme280_pressure\",regexp_replace(col(\"bme280_pressure\"),\"hPa\",\"\").cast(DoubleType()))\n",
    "                .withColumn(\"bme280_temperature\",regexp_replace(col(\"bme280_temperature\"),\"C\",\"\").cast(DoubleType()))\n",
    "                .withColumn(\"bme280_humidity\",regexp_replace(col(\"bme280_humidity\"),\"%\",\"\").cast(DoubleType()))\n",
    "                .withColumn(\"read_datetime\", to_timestamp(col(\"read_datetime\"), \"yyyy-M-d HH:mm:s\"))\n",
    "                .withColumn(\"read_datetime\", to_utc_timestamp(col(\"kafka_datetime\"), \"UTC\"))\n",
    "                .withColumn(\"read_date\",col(\"read_datetime\").cast(\"DATE\"))\n",
    "                .orderBy(col(\"read_datetime\").desc())\n",
    "                .where(\"id is not null\")\n",
    "           )\n",
    "\n",
    "#final_df.printSchema()\n",
    "#final_df.show(10,False)\n"
   ]
  },
  {
   "cell_type": "code",
   "execution_count": 80,
   "id": "baa66633-08ec-47a4-aa10-57924c67c77e",
   "metadata": {},
   "outputs": [
    {
     "data": {
      "text/plain": [
       "19280"
      ]
     },
     "execution_count": 80,
     "metadata": {},
     "output_type": "execute_result"
    }
   ],
   "source": [
    "final_df.count()"
   ]
  },
  {
   "cell_type": "code",
   "execution_count": 81,
   "id": "2e34b89d-2989-428e-b956-2f3594046a26",
   "metadata": {},
   "outputs": [
    {
     "name": "stdout",
     "output_type": "stream",
     "text": [
      "+-----------------------+----------+----+-----+---+----+-----+------------+------------+------------+--------------+--------------+--------------+-----------+-----------+-----------+-------------+-------------+-------------+\n",
      "|datetime               |date      |year|month|day|hour|count|min_bme_temp|avg_bme_temp|max_bme_temp|min_picow_temp|avg_picow_temp|max_picow_temp|min_bme_hum|avg_bme_hum|max_bme_hum|min_bme_press|avg_bme_press|max_bme_press|\n",
      "+-----------------------+----------+----+-----+---+----+-----+------------+------------+------------+--------------+--------------+--------------+-----------+-----------+-----------+-------------+-------------+-------------+\n",
      "|2023-10-12 16:29:34.679|2023-10-12|2023|10   |12 |16  |641  |23.97       |24.09       |24.67       |26.11         |26.92         |27.51         |39.46      |39.92      |75.63      |895.17       |895.46       |895.69       |\n",
      "|2023-10-12 15:59:59.747|2023-10-12|2023|10   |12 |15  |1364 |23.23       |23.74       |24.03       |25.17         |26.61         |27.51         |39.85      |40.32      |40.75      |894.46       |894.93       |895.31       |\n",
      "|2023-10-12 14:59:57.553|2023-10-12|2023|10   |12 |14  |1365 |23.14       |23.22       |23.29       |25.17         |26.07         |26.58         |39.75      |39.95      |40.47      |893.55       |894.09       |894.62       |\n",
      "|2023-10-12 13:59:58.437|2023-10-12|2023|10   |12 |13  |1362 |23.11       |23.21       |23.27       |25.17         |26.06         |26.58         |39.89      |40.08      |40.24      |892.8        |893.25       |893.72       |\n",
      "|2023-10-12 12:59:59.978|2023-10-12|2023|10   |12 |12  |1365 |23.14       |23.23       |23.31       |25.17         |26.08         |26.58         |39.95      |40.12      |40.28      |892.14       |892.61       |893.03       |\n",
      "|2023-10-12 11:59:59.651|2023-10-12|2023|10   |12 |11  |1364 |23.19       |23.3        |23.41       |25.17         |26.14         |26.58         |40.11      |40.35      |40.57      |891.32       |891.82       |892.26       |\n",
      "|2023-10-12 10:59:57.872|2023-10-12|2023|10   |12 |10  |1365 |23.28       |23.38       |23.46       |25.64         |26.24         |26.58         |40.46      |40.69      |40.87      |890.52       |890.95       |891.44       |\n",
      "|2023-10-12 09:59:57.932|2023-10-12|2023|10   |12 |9   |1368 |23.29       |23.4        |23.49       |25.17         |26.25         |26.58         |40.78      |40.97      |41.17      |889.99       |890.29       |890.65       |\n",
      "|2023-10-12 08:59:59.152|2023-10-12|2023|10   |12 |8   |1360 |23.31       |23.45       |23.52       |25.64         |26.32         |27.04         |41.01      |41.2       |41.42      |888.93       |889.42       |890.07       |\n",
      "|2023-10-12 07:59:58.111|2023-10-12|2023|10   |12 |7   |1354 |23.4        |23.48       |23.58       |25.64         |26.32         |27.04         |41.25      |41.45      |41.67      |888.27       |888.62       |889.1        |\n",
      "|2023-10-12 06:59:59.891|2023-10-12|2023|10   |12 |6   |1354 |23.46       |23.57       |23.68       |25.64         |26.37         |27.04         |41.57      |41.89      |42.24      |887.79       |888.19       |888.5        |\n",
      "|2023-10-12 05:59:58.34 |2023-10-12|2023|10   |12 |5   |1362 |23.59       |23.79       |24.06       |25.64         |26.57         |27.51         |41.02      |41.61      |42.34      |887.03       |887.54       |887.94       |\n",
      "|2023-10-12 04:59:57.95 |2023-10-12|2023|10   |12 |4   |1359 |23.58       |23.85       |24.03       |26.11         |26.67         |27.51         |40.72      |41.4       |41.78      |886.32       |886.89       |887.27       |\n",
      "|2023-10-12 03:59:57.616|2023-10-12|2023|10   |12 |3   |1295 |22.86       |23.36       |23.76       |25.17         |26.37         |27.04         |40.76      |41.88      |43.86      |885.61       |886.2        |886.58       |\n",
      "|2023-10-10 23:55:49.1  |2023-10-10|2023|10   |10 |23  |1002 |24.53       |24.63       |25.25       |26.58         |27.28         |27.98         |32.68      |33.6       |75.68      |874.54       |874.72       |874.88       |\n",
      "+-----------------------+----------+----+-----+---+----+-----+------------+------------+------------+--------------+--------------+--------------+-----------+-----------+-----------+-------------+-------------+-------------+\n",
      "\n"
     ]
    }
   ],
   "source": [
    "from pyspark.sql.functions import count, avg, round, month,year, dayofmonth, min, max, hour, desc\n",
    "\n",
    "agg_by_hour_df = (\n",
    "                 final_df\n",
    "                 .withColumn(\"day\", dayofmonth(col(\"read_date\")))\n",
    "                 .withColumn(\"month\", month(col(\"read_date\")))\n",
    "                 .withColumn(\"year\", year(col(\"read_date\")))\n",
    "                 \n",
    "                 .groupBy(hour(col(\"read_datetime\")).alias(\"hour\"))\n",
    "                 .agg(\n",
    "                      count(col(\"id\")).alias(\"count\"),\n",
    "\n",
    "                      # date columns\n",
    "                      max(col(\"read_datetime\")).alias(\"datetime\"),\n",
    "                      max(col(\"read_date\")).alias(\"date\"),\n",
    "                      max(col(\"day\")).alias(\"day\"),\n",
    "                      max(col(\"month\")).alias(\"month\"),\n",
    "                      max(col(\"year\")).alias(\"year\"),\n",
    "                      \n",
    "\n",
    "                      # bme temperature metrics\n",
    "                      round(min(col(\"bme280_temperature\")),2).alias(\"min_bme_temp\"),\n",
    "                      round(avg(col(\"bme280_temperature\")),2).alias(\"avg_bme_temp\"),\n",
    "                      round(max(col(\"bme280_temperature\")),2).alias(\"max_bme_temp\"),\n",
    "                      \n",
    "\n",
    "                      # picow temperature metrics\n",
    "                      round(min(col(\"picow_temperature\")),2).alias(\"min_picow_temp\"),\n",
    "                      round(avg(col(\"picow_temperature\")),2).alias(\"avg_picow_temp\"),\n",
    "                      round(max(col(\"picow_temperature\")),2).alias(\"max_picow_temp\"),\n",
    "\n",
    "                     # bme humidity metrics\n",
    "                      round(min(col(\"bme280_humidity\")),2).alias(\"min_bme_hum\"),\n",
    "                      round(avg(col(\"bme280_humidity\")),2).alias(\"avg_bme_hum\"),\n",
    "                      round(max(col(\"bme280_humidity\")),2).alias(\"max_bme_hum\"),\n",
    "\n",
    "                     # bme pressure metrics\n",
    "                      round(min(col(\"bme280_pressure\")),2).alias(\"min_bme_press\"),\n",
    "                      round(avg(col(\"bme280_pressure\")),2).alias(\"avg_bme_press\"),\n",
    "                      round(max(col(\"bme280_pressure\")),2).alias(\"max_bme_press\")\n",
    "                      \n",
    "                     )\n",
    "                 .sort(desc(\"year\"), desc(\"month\"), desc(\"day\"), desc(\"hour\"))\n",
    "                 .selectExpr(\"datetime\",\n",
    "                             \"date\",\n",
    "                             \"year\",\n",
    "                             \"month\",\n",
    "                             \"day\",\n",
    "                             \"hour\",\n",
    "                             \"count\",\n",
    "                             \"min_bme_temp\",\n",
    "                             \"avg_bme_temp\",\n",
    "                             \"max_bme_temp\",\n",
    "                             \"min_picow_temp\",\n",
    "                             \"avg_picow_temp\",\n",
    "                             \"max_picow_temp\",\n",
    "                             \"min_bme_hum\",\n",
    "                             \"avg_bme_hum\",\n",
    "                             \"max_bme_hum\",\n",
    "                             \"min_bme_press\",\n",
    "                             \"avg_bme_press\",\n",
    "                             \"max_bme_press\",\n",
    "                            )\n",
    "                )\n",
    "agg_by_hour_df.show(100,False)"
   ]
  },
  {
   "cell_type": "code",
   "execution_count": 82,
   "id": "23f72e87-9443-4aba-89dd-16ac6a99387b",
   "metadata": {},
   "outputs": [
    {
     "data": {
      "text/plain": [
       "15"
      ]
     },
     "execution_count": 82,
     "metadata": {},
     "output_type": "execute_result"
    }
   ],
   "source": [
    "agg_by_hour_df.count()"
   ]
  },
  {
   "cell_type": "code",
   "execution_count": 83,
   "id": "9691dc90-7409-4723-aaf8-6514e1312c21",
   "metadata": {},
   "outputs": [
    {
     "name": "stderr",
     "output_type": "stream",
     "text": [
      "/usr/local/spark/python/pyspark/sql/pandas/conversion.py:251: FutureWarning: Passing unit-less datetime64 dtype to .astype is deprecated and will raise in a future version. Pass 'datetime64[ns]' instead\n",
      "  series = series.astype(t, copy=False)\n"
     ]
    }
   ],
   "source": [
    "pdf = agg_by_hour_df.toPandas()\n",
    "pdf.to_csv(f\"{path}data/agg_by_hour_df.csv\", index=False)"
   ]
  }
 ],
 "metadata": {
  "kernelspec": {
   "display_name": "Python 3 (ipykernel)",
   "language": "python",
   "name": "python3"
  },
  "language_info": {
   "codemirror_mode": {
    "name": "ipython",
    "version": 3
   },
   "file_extension": ".py",
   "mimetype": "text/x-python",
   "name": "python",
   "nbconvert_exporter": "python",
   "pygments_lexer": "ipython3",
   "version": "3.11.5"
  }
 },
 "nbformat": 4,
 "nbformat_minor": 5
}
