{
 "cells": [
  {
   "cell_type": "code",
   "execution_count": 25,
   "id": "abb10b99-c0bd-4dc5-88df-c5d4359bab85",
   "metadata": {},
   "outputs": [],
   "source": [
    "from pyspark.sql.session import SparkSession\n",
    "import os\n",
    "path = f\"{os.getcwd()}/../\"\n",
    "\n",
    "from pyspark.sql.types import StructType, StructField, StringType, DoubleType, IntegerType, DateType, TimestampType\n",
    "from pyspark.sql.functions import lit, col, from_json, regexp_replace, to_timestamp, current_timestamp, to_utc_timestamp"
   ]
  },
  {
   "cell_type": "code",
   "execution_count": 14,
   "id": "b9385b13-60f6-484b-8ffd-8631e267652a",
   "metadata": {},
   "outputs": [],
   "source": [
    "packages = [\n",
    "    \"org.apache.spark:spark-sql-kafka-0-10_2.12:3.4.1\",\n",
    "    \"org.apache.kafka:kafka-clients:3.2.1\"\n",
    "]\n",
    "\n",
    "jars = [\n",
    "    f\"{path}/jars/commons-pool2-2.11.1.jar\",\n",
    "    f\"{path}/jars/spark-sql-kafka-0-10_2.12-3.4.1.jar\",\n",
    "    f\"{path}/jars/kafka-clients-3.5.1.jar\",\n",
    "    f\"{path}/jars/spark-token-provider-kafka-0-10_2.12-3.4.1.jar\",\n",
    "    f\"{path}/jars/mysql-connector-j-8.0.31.jar\",\n",
    "]\n",
    "\n",
    "spark = (SparkSession\n",
    "         .Builder()\n",
    "         .appName(name=\"test_kafka\")\n",
    "         .master(\"spark://spark:7077\")\n",
    "         .config(\"spark.jars\", \",\".join(jars))\n",
    "         .config(\"spark.jars.packages\", \",\".join(packages))\n",
    "         #.config(\"spark.redis.host\", \"redis\")\n",
    "         #.config(\"spark.redis.port\", \"6379\")\n",
    "         .getOrCreate())"
   ]
  },
  {
   "cell_type": "code",
   "execution_count": 16,
   "id": "56761c10-bb4f-42dc-9b2c-a7530bb2b1d5",
   "metadata": {},
   "outputs": [
    {
     "data": {
      "text/html": [
       "\n",
       "            <div>\n",
       "                <p><b>SparkSession - in-memory</b></p>\n",
       "                \n",
       "        <div>\n",
       "            <p><b>SparkContext</b></p>\n",
       "\n",
       "            <p><a href=\"http://b3f41c7496af:4040\">Spark UI</a></p>\n",
       "\n",
       "            <dl>\n",
       "              <dt>Version</dt>\n",
       "                <dd><code>v3.4.1</code></dd>\n",
       "              <dt>Master</dt>\n",
       "                <dd><code>spark://spark:7077</code></dd>\n",
       "              <dt>AppName</dt>\n",
       "                <dd><code>test_kafka</code></dd>\n",
       "            </dl>\n",
       "        </div>\n",
       "        \n",
       "            </div>\n",
       "        "
      ],
      "text/plain": [
       "<pyspark.sql.session.SparkSession at 0x7f82ccc2d0>"
      ]
     },
     "execution_count": 16,
     "metadata": {},
     "output_type": "execute_result"
    }
   ],
   "source": [
    "spark"
   ]
  },
  {
   "cell_type": "code",
   "execution_count": 4,
   "id": "c66155ad-3d27-421c-a3b7-18b9b4daa75c",
   "metadata": {},
   "outputs": [
    {
     "data": {
      "text/plain": [
       "2"
      ]
     },
     "execution_count": 4,
     "metadata": {},
     "output_type": "execute_result"
    }
   ],
   "source": [
    "spark.sparkContext.defaultParallelism"
   ]
  },
  {
   "cell_type": "code",
   "execution_count": 32,
   "id": "e453da06-3f1c-4d79-813b-25841a91e3dd",
   "metadata": {},
   "outputs": [],
   "source": [
    "#spark.stop()"
   ]
  },
  {
   "cell_type": "code",
   "execution_count": 17,
   "id": "80cf8a0b-4952-4865-bb31-495cf323748d",
   "metadata": {},
   "outputs": [],
   "source": [
    "schema = StructType([\n",
    "    StructField(\"id\", IntegerType()),\n",
    "    StructField(\"bme280\", StructType([\n",
    "        StructField(\"pressure\", StringType()),\n",
    "        StructField(\"temperature\", StringType()),\n",
    "        StructField(\"humidity\", StringType()),\n",
    "        StructField(\"read_datetime\", StringType())\n",
    "    ])),\n",
    "    StructField(\"picow\", StructType([\n",
    "        StructField(\"local_ip\", StringType()),\n",
    "        StructField(\"temperature\", DoubleType()),\n",
    "        StructField(\"free_storage_kb\", DoubleType()),\n",
    "        StructField(\"mem_alloc_bytes\", DoubleType()),\n",
    "        StructField(\"mem_free_bytes\", DoubleType()),\n",
    "        StructField(\"cpu_freq_mhz\", DoubleType())\n",
    "    ]))\n",
    "])"
   ]
  },
  {
   "cell_type": "code",
   "execution_count": 18,
   "id": "3ca30f74-0c5b-4cf7-8837-87aac5633b31",
   "metadata": {},
   "outputs": [],
   "source": [
    "picow_df = (spark \n",
    "              .read\n",
    "              .format(\"kafka\") \n",
    "              .option(\"kafka.bootstrap.servers\", \"kafka:9092\") \n",
    "              .option(\"subscribe\", \"iot_source\")\n",
    "              #.option(\"startingOffsets\", \"earliest\")\n",
    "              #.option(\"endingOffsets\", \"latest\")\n",
    "              .load())\n",
    "\n",
    "df = (picow_df\n",
    "      .where(\"offset > 2\")\n",
    "      .selectExpr(\"CAST(offset AS INTEGER)\",\"CAST(timestamp AS TIMESTAMP)\",\"CAST(key AS STRING)\", \"CAST(value AS STRING)\", \"CAST(topic AS STRING)\"))"
   ]
  },
  {
   "cell_type": "code",
   "execution_count": 19,
   "id": "5b525b7a-bb4f-4427-95a4-309bca201b5e",
   "metadata": {},
   "outputs": [],
   "source": [
    "stg_df =  (df\n",
    "            .withColumn('data', from_json(col('value'), schema))\n",
    "            .selectExpr(\"offset as kafka_offset\",\n",
    "                        \"timestamp as kafka_datetime\",\n",
    "                        \"topic as kafka_topic\",\n",
    "                        \"data.id as id\",\n",
    "                        \"data.bme280.pressure as bme280_pressure\",\n",
    "                        \"data.bme280.temperature as bme280_temperature\",\n",
    "                        \"data.bme280.humidity as bme280_humidity\",\n",
    "                        \"data.bme280.read_datetime as read_datetime\",\n",
    "                        \"data.picow.local_ip as picow_local_ip\",\n",
    "                        \"data.picow.temperature as picow_temperature\",\n",
    "                        \"data.picow.mem_alloc_bytes as picow_mem_alloc_bytes\",\n",
    "                        \"data.picow.mem_free_bytes as picow_mem_free_bytes\",\n",
    "                        \"data.picow.cpu_freq_mhz as picow_cpu_freq_mhz\",\n",
    "                       )\n",
    "            .drop(\"key\",\"value\"))\n",
    "\n",
    "final_df = (stg_df\n",
    "                .withColumn(\"kafka_datetime\", to_utc_timestamp(col(\"kafka_datetime\"), \"UTC\"))\n",
    "                .withColumn(\"spark_process_datetime\", current_timestamp())\n",
    "                .withColumn(\"bme280_pressure\",regexp_replace(col(\"bme280_pressure\"),\"hPa\",\"\").cast(DoubleType()))\n",
    "                .withColumn(\"bme280_temperature\",regexp_replace(col(\"bme280_temperature\"),\"C\",\"\").cast(DoubleType()))\n",
    "                .withColumn(\"bme280_humidity\",regexp_replace(col(\"bme280_humidity\"),\"%\",\"\").cast(DoubleType()))\n",
    "                .withColumn(\"read_datetime\", to_timestamp(col(\"read_datetime\"), \"yyyy-M-d HH:mm:s\"))\n",
    "                .withColumn(\"read_datetime\", to_utc_timestamp(col(\"kafka_datetime\"), \"UTC\"))\n",
    "                .withColumn(\"read_date\",col(\"read_datetime\").cast(\"DATE\"))\n",
    "                .orderBy(col(\"read_datetime\").desc())\n",
    "                .where(\"id is not null\")\n",
    "           )\n",
    "\n",
    "#final_df.printSchema()\n",
    "#final_df.show(10,False)\n"
   ]
  },
  {
   "cell_type": "code",
   "execution_count": 21,
   "id": "baa66633-08ec-47a4-aa10-57924c67c77e",
   "metadata": {},
   "outputs": [
    {
     "data": {
      "text/plain": [
       "43130"
      ]
     },
     "execution_count": 21,
     "metadata": {},
     "output_type": "execute_result"
    }
   ],
   "source": [
    "final_df.count()"
   ]
  },
  {
   "cell_type": "code",
   "execution_count": 30,
   "id": "2e34b89d-2989-428e-b956-2f3594046a26",
   "metadata": {},
   "outputs": [],
   "source": [
    "from pyspark.sql.functions import count, avg, round, month,year, dayofmonth, min, max, hour, desc\n",
    "\n",
    "agg_by_hour_df = (\n",
    "                 final_df\n",
    "                 .withColumn(\"day\", dayofmonth(col(\"read_date\")))\n",
    "                 .withColumn(\"month\", month(col(\"read_date\")))\n",
    "                 .withColumn(\"year\", year(col(\"read_date\")))\n",
    "                 \n",
    "                 .groupBy(hour(col(\"read_datetime\")).alias(\"hour\"))\n",
    "                 .agg(\n",
    "                      count(col(\"id\")).alias(\"count\"),\n",
    "\n",
    "                      # date columns\n",
    "                      max(col(\"read_datetime\")).alias(\"datetime\"),\n",
    "                      max(col(\"read_date\")).alias(\"date\"),\n",
    "                      max(col(\"day\")).alias(\"day\"),\n",
    "                      max(col(\"month\")).alias(\"month\"),\n",
    "                      max(col(\"year\")).alias(\"year\"),\n",
    "                      \n",
    "\n",
    "                      # bme temperature metrics\n",
    "                      round(min(col(\"bme280_temperature\")),2).alias(\"min_bme_temp\"),\n",
    "                      round(avg(col(\"bme280_temperature\")),2).alias(\"avg_bme_temp\"),\n",
    "                      round(max(col(\"bme280_temperature\")),2).alias(\"max_bme_temp\"),\n",
    "                      \n",
    "\n",
    "                      # picow temperature metrics\n",
    "                      round(min(col(\"picow_temperature\")),2).alias(\"min_picow_temp\"),\n",
    "                      round(avg(col(\"picow_temperature\")),2).alias(\"avg_picow_temp\"),\n",
    "                      round(max(col(\"picow_temperature\")),2).alias(\"max_picow_temp\"),\n",
    "\n",
    "                     # bme humidity metrics\n",
    "                      round(min(col(\"bme280_humidity\")),2).alias(\"min_bme_hum\"),\n",
    "                      round(avg(col(\"bme280_humidity\")),2).alias(\"avg_bme_hum\"),\n",
    "                      round(max(col(\"bme280_humidity\")),2).alias(\"max_bme_hum\"),\n",
    "\n",
    "                     # bme pressure metrics\n",
    "                      round(min(col(\"bme280_pressure\")),2).alias(\"min_bme_press\"),\n",
    "                      round(avg(col(\"bme280_pressure\")),2).alias(\"avg_bme_press\"),\n",
    "                      round(max(col(\"bme280_pressure\")),2).alias(\"max_bme_press\")\n",
    "                      \n",
    "                     )\n",
    "                 .sort(desc(\"year\"), desc(\"month\"), desc(\"day\"), desc(\"hour\"))\n",
    "                 .selectExpr(\"datetime\",\n",
    "                             \"date\",\n",
    "                             \"year\",\n",
    "                             \"month\",\n",
    "                             \"day\",\n",
    "                             \"hour\",\n",
    "                             \"count\",\n",
    "                             \"min_bme_temp\",\n",
    "                             \"avg_bme_temp\",\n",
    "                             \"max_bme_temp\",\n",
    "                             \"min_picow_temp\",\n",
    "                             \"avg_picow_temp\",\n",
    "                             \"max_picow_temp\",\n",
    "                             \"min_bme_hum\",\n",
    "                             \"avg_bme_hum\",\n",
    "                             \"max_bme_hum\",\n",
    "                             \"min_bme_press\",\n",
    "                             \"avg_bme_press\",\n",
    "                             \"max_bme_press\",\n",
    "                            )\n",
    "                )"
   ]
  },
  {
   "cell_type": "code",
   "execution_count": 31,
   "id": "23f72e87-9443-4aba-89dd-16ac6a99387b",
   "metadata": {},
   "outputs": [],
   "source": [
    "(agg_by_hour_df.write \n",
    "        .format(\"jdbc\") \n",
    "        .mode(\"overwrite\") \n",
    "        .option(\"driver\", \"com.mysql.jdbc.Driver\") \n",
    "        .option(\"url\", \"jdbc:mysql://mariadb:3306/data?rewriteBatchedStatements=true\") \n",
    "        .option(\"user\", \"mysql\") \n",
    "        .option(\"password\", \"mysql\") \n",
    "        .option(\"dbtable\", \"agg_by_hour_df\") \n",
    "        .save())"
   ]
  },
  {
   "cell_type": "code",
   "execution_count": 26,
   "id": "ec2267dc-a71b-45b5-b10d-129c0f9a62c7",
   "metadata": {},
   "outputs": [
    {
     "name": "stdout",
     "output_type": "stream",
     "text": [
      "+------------+-----+\n",
      "|   source_ip|count|\n",
      "+------------+-----+\n",
      "|192.168.1.70|21744|\n",
      "|192.168.1.74|21386|\n",
      "+------------+-----+\n",
      "\n"
     ]
    }
   ],
   "source": [
    "agg_by_ip_df = (final_df\n",
    "                .groupBy(\"picow_local_ip\")\n",
    "                .agg(count(col(\"id\")).alias(\"messages\"))\n",
    "                .selectExpr(\"picow_local_ip as source_ip\", \"messages\")\n",
    "               )\n"
   ]
  },
  {
   "cell_type": "code",
   "execution_count": 28,
   "id": "028627c1-b6a0-4fae-a4ca-cc6d3868e6e7",
   "metadata": {},
   "outputs": [],
   "source": [
    "(agg_by_ip_df.write \n",
    "        .format(\"jdbc\") \n",
    "        .mode(\"overwrite\") \n",
    "        .option(\"driver\", \"com.mysql.jdbc.Driver\") \n",
    "        .option(\"url\", \"jdbc:mysql://mariadb:3306/data?rewriteBatchedStatements=true\") \n",
    "        .option(\"user\", \"mysql\") \n",
    "        .option(\"password\", \"mysql\") \n",
    "        .option(\"dbtable\", \"agg_by_ip_df\") \n",
    "        .save())"
   ]
  },
  {
   "cell_type": "code",
   "execution_count": 29,
   "id": "ad75ab76-cb96-4c20-8bae-ddd842b8f07f",
   "metadata": {},
   "outputs": [],
   "source": [
    "pdf = agg_by_hour_df.toPandas()\n",
    "pdf.to_csv(f\"{path}data/agg_by_hour_df.csv\", index=False)\n",
    "pdf_ip = agg_by_ip_df.toPandas()\n",
    "pdf_ip.to_csv(f\"{path}data/agg_by_ip_df.csv\", index=False)"
   ]
  }
 ],
 "metadata": {
  "kernelspec": {
   "display_name": "Python 3 (ipykernel)",
   "language": "python",
   "name": "python3"
  },
  "language_info": {
   "codemirror_mode": {
    "name": "ipython",
    "version": 3
   },
   "file_extension": ".py",
   "mimetype": "text/x-python",
   "name": "python",
   "nbconvert_exporter": "python",
   "pygments_lexer": "ipython3",
   "version": "3.11.5"
  }
 },
 "nbformat": 4,
 "nbformat_minor": 5
}
