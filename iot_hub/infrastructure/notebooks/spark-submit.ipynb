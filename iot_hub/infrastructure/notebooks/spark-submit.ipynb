{
 "cells": [
  {
   "cell_type": "markdown",
   "id": "0fbed602-80c0-428c-9376-0c4d815be951",
   "metadata": {},
   "source": [
    "# Spark Submit "
   ]
  },
  {
   "cell_type": "code",
   "execution_count": null,
   "id": "509f4563-6e79-4efd-a8e8-bb03d8d73afb",
   "metadata": {},
   "outputs": [],
   "source": [
    "%%sh\n",
    "spark-submit \\\n",
    "--jars /home/jovyan/work/jars/commons-pool2-2.11.1.jar,/home/jovyan/work/jars/spark-sql-kafka-0-10_2.12-3.4.1.jar,/home/jovyan/work/jars/kafka-clients-3.5.1.jar,/home/jovyan/work/jars/spark-token-provider-kafka-0-10_2.12-3.4.1.jar,/home/jovyan/work/jars/mysql-connector-j-8.0.31.jar \\\n",
    "--packages org.apache.spark:spark-sql-kafka-0-10_2.12:3.4.1,org.apache.kafka:kafka-clients:3.2.1 \\\n",
    "/home/jovyan/work/jobs/spark_process_iot_data.py \\"
   ]
  },
  {
   "cell_type": "code",
   "execution_count": 15,
   "id": "bbf9b473-26fa-4018-80e4-c02d46caaa9f",
   "metadata": {},
   "outputs": [
    {
     "name": "stdout",
     "output_type": "stream",
     "text": [
      ":: loading settings :: url = jar:file:/usr/local/spark-3.4.1-bin-hadoop3/jars/ivy-2.5.1.jar!/org/apache/ivy/core/settings/ivysettings.xml\n"
     ]
    },
    {
     "name": "stderr",
     "output_type": "stream",
     "text": [
      "Ivy Default Cache set to: /home/jovyan/.ivy2/cache\n",
      "The jars for the packages stored in: /home/jovyan/.ivy2/jars\n",
      "org.apache.spark#spark-sql-kafka-0-10_2.12 added as a dependency\n",
      "org.apache.kafka#kafka-clients added as a dependency\n",
      ":: resolving dependencies :: org.apache.spark#spark-submit-parent-1a084343-4b9d-4eaf-8a86-1c5c085a2954;1.0\n",
      "\tconfs: [default]\n",
      "\tfound org.apache.spark#spark-sql-kafka-0-10_2.12;3.4.1 in central\n",
      "\tfound org.apache.spark#spark-token-provider-kafka-0-10_2.12;3.4.1 in central\n",
      "\tfound org.apache.kafka#kafka-clients;3.3.2 in central\n",
      "\tfound org.lz4#lz4-java;1.8.0 in central\n",
      "\tfound org.xerial.snappy#snappy-java;1.1.10.1 in central\n",
      "\tfound org.slf4j#slf4j-api;2.0.6 in central\n",
      "\tfound org.apache.hadoop#hadoop-client-runtime;3.3.4 in central\n",
      "\tfound org.apache.hadoop#hadoop-client-api;3.3.4 in central\n",
      "\tfound commons-logging#commons-logging;1.1.3 in central\n",
      "\tfound com.google.code.findbugs#jsr305;3.0.0 in central\n",
      "\tfound org.apache.commons#commons-pool2;2.11.1 in central\n",
      ":: resolution report :: resolve 3181ms :: artifacts dl 122ms\n",
      "\t:: modules in use:\n",
      "\tcom.google.code.findbugs#jsr305;3.0.0 from central in [default]\n",
      "\tcommons-logging#commons-logging;1.1.3 from central in [default]\n",
      "\torg.apache.commons#commons-pool2;2.11.1 from central in [default]\n",
      "\torg.apache.hadoop#hadoop-client-api;3.3.4 from central in [default]\n",
      "\torg.apache.hadoop#hadoop-client-runtime;3.3.4 from central in [default]\n",
      "\torg.apache.kafka#kafka-clients;3.3.2 from central in [default]\n",
      "\torg.apache.spark#spark-sql-kafka-0-10_2.12;3.4.1 from central in [default]\n",
      "\torg.apache.spark#spark-token-provider-kafka-0-10_2.12;3.4.1 from central in [default]\n",
      "\torg.lz4#lz4-java;1.8.0 from central in [default]\n",
      "\torg.slf4j#slf4j-api;2.0.6 from central in [default]\n",
      "\torg.xerial.snappy#snappy-java;1.1.10.1 from central in [default]\n",
      "\t:: evicted modules:\n",
      "\torg.apache.kafka#kafka-clients;3.2.1 by [org.apache.kafka#kafka-clients;3.3.2] in [default]\n",
      "\t---------------------------------------------------------------------\n",
      "\t|                  |            modules            ||   artifacts   |\n",
      "\t|       conf       | number| search|dwnlded|evicted|| number|dwnlded|\n",
      "\t---------------------------------------------------------------------\n",
      "\t|      default     |   12  |   0   |   0   |   1   ||   11  |   0   |\n",
      "\t---------------------------------------------------------------------\n",
      ":: retrieving :: org.apache.spark#spark-submit-parent-1a084343-4b9d-4eaf-8a86-1c5c085a2954\n",
      "\tconfs: [default]\n",
      "\t0 artifacts copied, 11 already retrieved (0kB/100ms)\n",
      "23/10/13 22:34:07 WARN NativeCodeLoader: Unable to load native-hadoop library for your platform... using builtin-java classes where applicable\n",
      "23/10/13 22:34:12 INFO SparkContext: Running Spark version 3.4.1\n",
      "23/10/13 22:34:12 INFO ResourceUtils: ==============================================================\n",
      "23/10/13 22:34:12 INFO ResourceUtils: No custom resources configured for spark.driver.\n",
      "23/10/13 22:34:12 INFO ResourceUtils: ==============================================================\n",
      "23/10/13 22:34:12 INFO SparkContext: Submitted application: process_iot_data\n",
      "23/10/13 22:34:12 INFO ResourceProfile: Default ResourceProfile created, executor resources: Map(memory -> name: memory, amount: 1024, script: , vendor: , offHeap -> name: offHeap, amount: 0, script: , vendor: ), task resources: Map(cpus -> name: cpus, amount: 1.0)\n",
      "23/10/13 22:34:12 INFO ResourceProfile: Limiting resource is cpu\n",
      "23/10/13 22:34:12 INFO ResourceProfileManager: Added ResourceProfile id: 0\n",
      "23/10/13 22:34:13 INFO SecurityManager: Changing view acls to: jovyan\n",
      "23/10/13 22:34:13 INFO SecurityManager: Changing modify acls to: jovyan\n",
      "23/10/13 22:34:13 INFO SecurityManager: Changing view acls groups to: \n",
      "23/10/13 22:34:13 INFO SecurityManager: Changing modify acls groups to: \n",
      "23/10/13 22:34:13 INFO SecurityManager: SecurityManager: authentication disabled; ui acls disabled; users with view permissions: jovyan; groups with view permissions: EMPTY; users with modify permissions: jovyan; groups with modify permissions: EMPTY\n",
      "23/10/13 22:34:14 INFO Utils: Successfully started service 'sparkDriver' on port 40603.\n",
      "23/10/13 22:34:14 INFO SparkEnv: Registering MapOutputTracker\n",
      "23/10/13 22:34:14 INFO SparkEnv: Registering BlockManagerMaster\n",
      "23/10/13 22:34:14 INFO BlockManagerMasterEndpoint: Using org.apache.spark.storage.DefaultTopologyMapper for getting topology information\n",
      "23/10/13 22:34:14 INFO BlockManagerMasterEndpoint: BlockManagerMasterEndpoint up\n",
      "23/10/13 22:34:14 INFO SparkEnv: Registering BlockManagerMasterHeartbeat\n",
      "23/10/13 22:34:15 INFO DiskBlockManager: Created local directory at /tmp/blockmgr-c7e44fb9-6c0c-41d6-bf5d-c748078988bf\n",
      "23/10/13 22:34:15 INFO MemoryStore: MemoryStore started with capacity 434.4 MiB\n",
      "23/10/13 22:34:15 INFO SparkEnv: Registering OutputCommitCoordinator\n",
      "23/10/13 22:34:15 INFO JettyUtils: Start Jetty 0.0.0.0:4040 for SparkUI\n",
      "23/10/13 22:34:15 INFO Utils: Successfully started service 'SparkUI' on port 4040.\n",
      "23/10/13 22:34:16 INFO SparkContext: Added JAR /home/jovyan/work/jars/commons-pool2-2.11.1.jar at spark://b3f41c7496af:40603/jars/commons-pool2-2.11.1.jar with timestamp 1697236452439\n",
      "23/10/13 22:34:16 INFO SparkContext: Added JAR /home/jovyan/work/jars/spark-sql-kafka-0-10_2.12-3.4.1.jar at spark://b3f41c7496af:40603/jars/spark-sql-kafka-0-10_2.12-3.4.1.jar with timestamp 1697236452439\n",
      "23/10/13 22:34:16 INFO SparkContext: Added JAR /home/jovyan/work/jars/kafka-clients-3.5.1.jar at spark://b3f41c7496af:40603/jars/kafka-clients-3.5.1.jar with timestamp 1697236452439\n",
      "23/10/13 22:34:16 INFO SparkContext: Added JAR /home/jovyan/work/jars/spark-token-provider-kafka-0-10_2.12-3.4.1.jar at spark://b3f41c7496af:40603/jars/spark-token-provider-kafka-0-10_2.12-3.4.1.jar with timestamp 1697236452439\n",
      "23/10/13 22:34:16 INFO SparkContext: Added JAR /home/jovyan/work/jars/mysql-connector-j-8.0.31.jar at spark://b3f41c7496af:40603/jars/mysql-connector-j-8.0.31.jar with timestamp 1697236452439\n",
      "23/10/13 22:34:16 INFO SparkContext: Added file file:///home/jovyan/.ivy2/jars/org.apache.spark_spark-sql-kafka-0-10_2.12-3.4.1.jar at spark://b3f41c7496af:40603/files/org.apache.spark_spark-sql-kafka-0-10_2.12-3.4.1.jar with timestamp 1697236452439\n",
      "23/10/13 22:34:16 INFO Utils: Copying /home/jovyan/.ivy2/jars/org.apache.spark_spark-sql-kafka-0-10_2.12-3.4.1.jar to /tmp/spark-3c06c34f-e72a-4606-aa7e-8c1e0c341c1c/userFiles-38088ca3-082c-4990-b214-8cce8a86aadf/org.apache.spark_spark-sql-kafka-0-10_2.12-3.4.1.jar\n",
      "23/10/13 22:34:16 INFO SparkContext: Added file file:///home/jovyan/.ivy2/jars/org.apache.spark_spark-token-provider-kafka-0-10_2.12-3.4.1.jar at spark://b3f41c7496af:40603/files/org.apache.spark_spark-token-provider-kafka-0-10_2.12-3.4.1.jar with timestamp 1697236452439\n",
      "23/10/13 22:34:16 INFO Utils: Copying /home/jovyan/.ivy2/jars/org.apache.spark_spark-token-provider-kafka-0-10_2.12-3.4.1.jar to /tmp/spark-3c06c34f-e72a-4606-aa7e-8c1e0c341c1c/userFiles-38088ca3-082c-4990-b214-8cce8a86aadf/org.apache.spark_spark-token-provider-kafka-0-10_2.12-3.4.1.jar\n",
      "23/10/13 22:34:16 INFO SparkContext: Added file file:///home/jovyan/.ivy2/jars/org.apache.kafka_kafka-clients-3.3.2.jar at spark://b3f41c7496af:40603/files/org.apache.kafka_kafka-clients-3.3.2.jar with timestamp 1697236452439\n",
      "23/10/13 22:34:16 INFO Utils: Copying /home/jovyan/.ivy2/jars/org.apache.kafka_kafka-clients-3.3.2.jar to /tmp/spark-3c06c34f-e72a-4606-aa7e-8c1e0c341c1c/userFiles-38088ca3-082c-4990-b214-8cce8a86aadf/org.apache.kafka_kafka-clients-3.3.2.jar\n",
      "23/10/13 22:34:16 INFO SparkContext: Added file file:///home/jovyan/.ivy2/jars/com.google.code.findbugs_jsr305-3.0.0.jar at spark://b3f41c7496af:40603/files/com.google.code.findbugs_jsr305-3.0.0.jar with timestamp 1697236452439\n",
      "23/10/13 22:34:16 INFO Utils: Copying /home/jovyan/.ivy2/jars/com.google.code.findbugs_jsr305-3.0.0.jar to /tmp/spark-3c06c34f-e72a-4606-aa7e-8c1e0c341c1c/userFiles-38088ca3-082c-4990-b214-8cce8a86aadf/com.google.code.findbugs_jsr305-3.0.0.jar\n",
      "23/10/13 22:34:16 INFO SparkContext: Added file file:///home/jovyan/.ivy2/jars/org.apache.commons_commons-pool2-2.11.1.jar at spark://b3f41c7496af:40603/files/org.apache.commons_commons-pool2-2.11.1.jar with timestamp 1697236452439\n",
      "23/10/13 22:34:16 INFO Utils: Copying /home/jovyan/.ivy2/jars/org.apache.commons_commons-pool2-2.11.1.jar to /tmp/spark-3c06c34f-e72a-4606-aa7e-8c1e0c341c1c/userFiles-38088ca3-082c-4990-b214-8cce8a86aadf/org.apache.commons_commons-pool2-2.11.1.jar\n",
      "23/10/13 22:34:16 INFO SparkContext: Added file file:///home/jovyan/.ivy2/jars/org.apache.hadoop_hadoop-client-runtime-3.3.4.jar at spark://b3f41c7496af:40603/files/org.apache.hadoop_hadoop-client-runtime-3.3.4.jar with timestamp 1697236452439\n",
      "23/10/13 22:34:16 INFO Utils: Copying /home/jovyan/.ivy2/jars/org.apache.hadoop_hadoop-client-runtime-3.3.4.jar to /tmp/spark-3c06c34f-e72a-4606-aa7e-8c1e0c341c1c/userFiles-38088ca3-082c-4990-b214-8cce8a86aadf/org.apache.hadoop_hadoop-client-runtime-3.3.4.jar\n",
      "23/10/13 22:34:16 INFO SparkContext: Added file file:///home/jovyan/.ivy2/jars/org.lz4_lz4-java-1.8.0.jar at spark://b3f41c7496af:40603/files/org.lz4_lz4-java-1.8.0.jar with timestamp 1697236452439\n",
      "23/10/13 22:34:16 INFO Utils: Copying /home/jovyan/.ivy2/jars/org.lz4_lz4-java-1.8.0.jar to /tmp/spark-3c06c34f-e72a-4606-aa7e-8c1e0c341c1c/userFiles-38088ca3-082c-4990-b214-8cce8a86aadf/org.lz4_lz4-java-1.8.0.jar\n",
      "23/10/13 22:34:16 INFO SparkContext: Added file file:///home/jovyan/.ivy2/jars/org.xerial.snappy_snappy-java-1.1.10.1.jar at spark://b3f41c7496af:40603/files/org.xerial.snappy_snappy-java-1.1.10.1.jar with timestamp 1697236452439\n",
      "23/10/13 22:34:16 INFO Utils: Copying /home/jovyan/.ivy2/jars/org.xerial.snappy_snappy-java-1.1.10.1.jar to /tmp/spark-3c06c34f-e72a-4606-aa7e-8c1e0c341c1c/userFiles-38088ca3-082c-4990-b214-8cce8a86aadf/org.xerial.snappy_snappy-java-1.1.10.1.jar\n",
      "23/10/13 22:34:16 INFO SparkContext: Added file file:///home/jovyan/.ivy2/jars/org.slf4j_slf4j-api-2.0.6.jar at spark://b3f41c7496af:40603/files/org.slf4j_slf4j-api-2.0.6.jar with timestamp 1697236452439\n",
      "23/10/13 22:34:16 INFO Utils: Copying /home/jovyan/.ivy2/jars/org.slf4j_slf4j-api-2.0.6.jar to /tmp/spark-3c06c34f-e72a-4606-aa7e-8c1e0c341c1c/userFiles-38088ca3-082c-4990-b214-8cce8a86aadf/org.slf4j_slf4j-api-2.0.6.jar\n",
      "23/10/13 22:34:16 INFO SparkContext: Added file file:///home/jovyan/.ivy2/jars/org.apache.hadoop_hadoop-client-api-3.3.4.jar at spark://b3f41c7496af:40603/files/org.apache.hadoop_hadoop-client-api-3.3.4.jar with timestamp 1697236452439\n",
      "23/10/13 22:34:16 INFO Utils: Copying /home/jovyan/.ivy2/jars/org.apache.hadoop_hadoop-client-api-3.3.4.jar to /tmp/spark-3c06c34f-e72a-4606-aa7e-8c1e0c341c1c/userFiles-38088ca3-082c-4990-b214-8cce8a86aadf/org.apache.hadoop_hadoop-client-api-3.3.4.jar\n",
      "23/10/13 22:34:16 INFO SparkContext: Added file file:///home/jovyan/.ivy2/jars/commons-logging_commons-logging-1.1.3.jar at spark://b3f41c7496af:40603/files/commons-logging_commons-logging-1.1.3.jar with timestamp 1697236452439\n",
      "23/10/13 22:34:16 INFO Utils: Copying /home/jovyan/.ivy2/jars/commons-logging_commons-logging-1.1.3.jar to /tmp/spark-3c06c34f-e72a-4606-aa7e-8c1e0c341c1c/userFiles-38088ca3-082c-4990-b214-8cce8a86aadf/commons-logging_commons-logging-1.1.3.jar\n",
      "23/10/13 22:34:16 INFO StandaloneAppClient$ClientEndpoint: Connecting to master spark://spark:7077...\n",
      "23/10/13 22:34:17 INFO TransportClientFactory: Successfully created connection to spark/172.18.0.5:7077 after 99 ms (0 ms spent in bootstraps)\n",
      "23/10/13 22:34:17 INFO StandaloneSchedulerBackend: Connected to Spark cluster with app ID app-20231013223417-0011\n",
      "23/10/13 22:34:17 INFO StandaloneAppClient$ClientEndpoint: Executor added: app-20231013223417-0011/0 on worker-20231013163724-172.18.0.3-39505 (172.18.0.3:39505) with 1 core(s)\n",
      "23/10/13 22:34:17 INFO StandaloneSchedulerBackend: Granted executor ID app-20231013223417-0011/0 on hostPort 172.18.0.3:39505 with 1 core(s), 1024.0 MiB RAM\n",
      "23/10/13 22:34:17 INFO Utils: Successfully started service 'org.apache.spark.network.netty.NettyBlockTransferService' on port 44991.\n",
      "23/10/13 22:34:17 INFO NettyBlockTransferService: Server created on b3f41c7496af:44991\n",
      "23/10/13 22:34:17 INFO BlockManager: Using org.apache.spark.storage.RandomBlockReplicationPolicy for block replication policy\n",
      "23/10/13 22:34:17 INFO StandaloneAppClient$ClientEndpoint: Executor updated: app-20231013223417-0011/0 is now RUNNING\n",
      "23/10/13 22:34:17 INFO BlockManagerMaster: Registering BlockManager BlockManagerId(driver, b3f41c7496af, 44991, None)\n",
      "23/10/13 22:34:17 INFO BlockManagerMasterEndpoint: Registering block manager b3f41c7496af:44991 with 434.4 MiB RAM, BlockManagerId(driver, b3f41c7496af, 44991, None)\n",
      "23/10/13 22:34:17 INFO BlockManagerMaster: Registered BlockManager BlockManagerId(driver, b3f41c7496af, 44991, None)\n",
      "23/10/13 22:34:17 INFO BlockManager: Initialized BlockManager: BlockManagerId(driver, b3f41c7496af, 44991, None)\n",
      "23/10/13 22:34:19 INFO StandaloneSchedulerBackend: SchedulerBackend is ready for scheduling beginning after reached minRegisteredResourcesRatio: 0.0\n"
     ]
    },
    {
     "name": "stdout",
     "output_type": "stream",
     "text": [
      "WARNING:root:[*] Spark Master at: spark://spark:7077\n",
      "WARNING:root:[*] Spark Cores: 2\n",
      "WARNING:root:Dataframe Records: 48502\n",
      "WARNING:root:Storing 24 records at mariadb table agg_by_hour_df ...\n"
     ]
    },
    {
     "name": "stderr",
     "output_type": "stream",
     "text": [
      "Loading class `com.mysql.jdbc.Driver'. This is deprecated. The new driver class is `com.mysql.cj.jdbc.Driver'. The driver is automatically registered via the SPI and manual loading of the driver class is generally unnecessary.\n"
     ]
    },
    {
     "name": "stdout",
     "output_type": "stream",
     "text": [
      "WARNING:root:Storing 2 records at mariadb table agg_by_ip_df ...\n",
      "WARNING:root:Storing agg_by_hour_df csv file at /home/jovyan/work/notebooks/../data/agg_by_hour_df.csv ...\n",
      "/usr/local/spark/python/lib/pyspark.zip/pyspark/sql/pandas/conversion.py:251: FutureWarning: Passing unit-less datetime64 dtype to .astype is deprecated and will raise in a future version. Pass 'datetime64[ns]' instead\n",
      "  series = series.astype(t, copy=False)\n",
      "WARNING:root:Storing agg_by_ip_df csv file at /home/jovyan/work/notebooks/../data/agg_by_ip_df.csv ...\n"
     ]
    }
   ],
   "source": [
    "%%sh\n",
    "spark-submit \\\n",
    "--jars /home/jovyan/work/jars/commons-pool2-2.11.1.jar,/home/jovyan/work/jars/spark-sql-kafka-0-10_2.12-3.4.1.jar,/home/jovyan/work/jars/kafka-clients-3.5.1.jar,/home/jovyan/work/jars/spark-token-provider-kafka-0-10_2.12-3.4.1.jar,/home/jovyan/work/jars/mysql-connector-j-8.0.31.jar \\\n",
    "--packages org.apache.spark:spark-sql-kafka-0-10_2.12:3.4.1,org.apache.kafka:kafka-clients:3.2.1 \\\n",
    "/home/jovyan/work/jobs/spark_process_iot_data.py \\\n",
    "--master spark://spark:7077 \\\n",
    "--deploy-mode cluster \\\n",
    "--supervise \\\n",
    "/home/jovyan/work/jobs/spark_process_iot_data.py \n"
   ]
  }
 ],
 "metadata": {
  "kernelspec": {
   "display_name": "Python 3 (ipykernel)",
   "language": "python",
   "name": "python3"
  },
  "language_info": {
   "codemirror_mode": {
    "name": "ipython",
    "version": 3
   },
   "file_extension": ".py",
   "mimetype": "text/x-python",
   "name": "python",
   "nbconvert_exporter": "python",
   "pygments_lexer": "ipython3",
   "version": "3.11.5"
  }
 },
 "nbformat": 4,
 "nbformat_minor": 5
}
